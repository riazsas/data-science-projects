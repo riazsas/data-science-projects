{
 "cells": [
  {
   "cell_type": "markdown",
   "metadata": {},
   "source": [
    "# Importing the necessary libraries "
   ]
  },
  {
   "cell_type": "code",
   "execution_count": 1,
   "metadata": {},
   "outputs": [],
   "source": [
    "import numpy as np\n",
    "import pandas as pd\n",
    "import matplotlib.pyplot as plt\n",
    "import seaborn as sns\n",
    "import plotly.express as pv\n",
    "import warnings\n",
    "from sklearn.feature_selection import SelectKBest\n",
    "from sklearn.feature_selection import chi2,f_oneway\n",
    "from sklearn.metrics import accuracy_score,classification_report,confusion_matrix\n",
    "from sklearn.preprocessing import LabelEncoder,StandardScaler\n",
    "\n",
    "warnings.filterwarnings('ignore')\n",
    "\n",
    "enc = LabelEncoder()\n",
    "\n",
    "%matplotlib inline"
   ]
  },
  {
   "cell_type": "markdown",
   "metadata": {},
   "source": [
    "# Importing the Dataset and setting the index column as EmpNumber"
   ]
  },
  {
   "cell_type": "code",
   "execution_count": 3,
   "metadata": {},
   "outputs": [],
   "source": [
    "data = pd.read_excel('data.xls',index_col=0)"
   ]
  },
  {
   "cell_type": "markdown",
   "metadata": {},
   "source": [
    "# RAW DATA"
   ]
  },
  {
   "cell_type": "code",
   "execution_count": 14,
   "metadata": {},
   "outputs": [
    {
     "data": {
      "text/html": [
       "<div>\n",
       "<style scoped>\n",
       "    .dataframe tbody tr th:only-of-type {\n",
       "        vertical-align: middle;\n",
       "    }\n",
       "\n",
       "    .dataframe tbody tr th {\n",
       "        vertical-align: top;\n",
       "    }\n",
       "\n",
       "    .dataframe thead th {\n",
       "        text-align: right;\n",
       "    }\n",
       "</style>\n",
       "<table border=\"1\" class=\"dataframe\">\n",
       "  <thead>\n",
       "    <tr style=\"text-align: right;\">\n",
       "      <th></th>\n",
       "      <th>Age</th>\n",
       "      <th>Gender</th>\n",
       "      <th>EducationBackground</th>\n",
       "      <th>MaritalStatus</th>\n",
       "      <th>EmpDepartment</th>\n",
       "      <th>EmpJobRole</th>\n",
       "      <th>BusinessTravelFrequency</th>\n",
       "      <th>DistanceFromHome</th>\n",
       "      <th>EmpEducationLevel</th>\n",
       "      <th>EmpEnvironmentSatisfaction</th>\n",
       "      <th>...</th>\n",
       "      <th>EmpRelationshipSatisfaction</th>\n",
       "      <th>TotalWorkExperienceInYears</th>\n",
       "      <th>TrainingTimesLastYear</th>\n",
       "      <th>EmpWorkLifeBalance</th>\n",
       "      <th>ExperienceYearsAtThisCompany</th>\n",
       "      <th>ExperienceYearsInCurrentRole</th>\n",
       "      <th>YearsSinceLastPromotion</th>\n",
       "      <th>YearsWithCurrManager</th>\n",
       "      <th>Attrition</th>\n",
       "      <th>PerformanceRating</th>\n",
       "    </tr>\n",
       "    <tr>\n",
       "      <th>EmpNumber</th>\n",
       "      <th></th>\n",
       "      <th></th>\n",
       "      <th></th>\n",
       "      <th></th>\n",
       "      <th></th>\n",
       "      <th></th>\n",
       "      <th></th>\n",
       "      <th></th>\n",
       "      <th></th>\n",
       "      <th></th>\n",
       "      <th></th>\n",
       "      <th></th>\n",
       "      <th></th>\n",
       "      <th></th>\n",
       "      <th></th>\n",
       "      <th></th>\n",
       "      <th></th>\n",
       "      <th></th>\n",
       "      <th></th>\n",
       "      <th></th>\n",
       "      <th></th>\n",
       "    </tr>\n",
       "  </thead>\n",
       "  <tbody>\n",
       "    <tr>\n",
       "      <th>E1001000</th>\n",
       "      <td>32</td>\n",
       "      <td>Male</td>\n",
       "      <td>Marketing</td>\n",
       "      <td>Single</td>\n",
       "      <td>Sales</td>\n",
       "      <td>Sales Executive</td>\n",
       "      <td>Travel_Rarely</td>\n",
       "      <td>10</td>\n",
       "      <td>3</td>\n",
       "      <td>4</td>\n",
       "      <td>...</td>\n",
       "      <td>4</td>\n",
       "      <td>10</td>\n",
       "      <td>2</td>\n",
       "      <td>2</td>\n",
       "      <td>10</td>\n",
       "      <td>7</td>\n",
       "      <td>0</td>\n",
       "      <td>8</td>\n",
       "      <td>No</td>\n",
       "      <td>3</td>\n",
       "    </tr>\n",
       "    <tr>\n",
       "      <th>E1001006</th>\n",
       "      <td>47</td>\n",
       "      <td>Male</td>\n",
       "      <td>Marketing</td>\n",
       "      <td>Single</td>\n",
       "      <td>Sales</td>\n",
       "      <td>Sales Executive</td>\n",
       "      <td>Travel_Rarely</td>\n",
       "      <td>14</td>\n",
       "      <td>4</td>\n",
       "      <td>4</td>\n",
       "      <td>...</td>\n",
       "      <td>4</td>\n",
       "      <td>20</td>\n",
       "      <td>2</td>\n",
       "      <td>3</td>\n",
       "      <td>7</td>\n",
       "      <td>7</td>\n",
       "      <td>1</td>\n",
       "      <td>7</td>\n",
       "      <td>No</td>\n",
       "      <td>3</td>\n",
       "    </tr>\n",
       "    <tr>\n",
       "      <th>E1001007</th>\n",
       "      <td>40</td>\n",
       "      <td>Male</td>\n",
       "      <td>Life Sciences</td>\n",
       "      <td>Married</td>\n",
       "      <td>Sales</td>\n",
       "      <td>Sales Executive</td>\n",
       "      <td>Travel_Frequently</td>\n",
       "      <td>5</td>\n",
       "      <td>4</td>\n",
       "      <td>4</td>\n",
       "      <td>...</td>\n",
       "      <td>3</td>\n",
       "      <td>20</td>\n",
       "      <td>2</td>\n",
       "      <td>3</td>\n",
       "      <td>18</td>\n",
       "      <td>13</td>\n",
       "      <td>1</td>\n",
       "      <td>12</td>\n",
       "      <td>No</td>\n",
       "      <td>4</td>\n",
       "    </tr>\n",
       "    <tr>\n",
       "      <th>E1001009</th>\n",
       "      <td>41</td>\n",
       "      <td>Male</td>\n",
       "      <td>Human Resources</td>\n",
       "      <td>Divorced</td>\n",
       "      <td>Human Resources</td>\n",
       "      <td>Manager</td>\n",
       "      <td>Travel_Rarely</td>\n",
       "      <td>10</td>\n",
       "      <td>4</td>\n",
       "      <td>2</td>\n",
       "      <td>...</td>\n",
       "      <td>2</td>\n",
       "      <td>23</td>\n",
       "      <td>2</td>\n",
       "      <td>2</td>\n",
       "      <td>21</td>\n",
       "      <td>6</td>\n",
       "      <td>12</td>\n",
       "      <td>6</td>\n",
       "      <td>No</td>\n",
       "      <td>3</td>\n",
       "    </tr>\n",
       "    <tr>\n",
       "      <th>E1001010</th>\n",
       "      <td>60</td>\n",
       "      <td>Male</td>\n",
       "      <td>Marketing</td>\n",
       "      <td>Single</td>\n",
       "      <td>Sales</td>\n",
       "      <td>Sales Executive</td>\n",
       "      <td>Travel_Rarely</td>\n",
       "      <td>16</td>\n",
       "      <td>4</td>\n",
       "      <td>1</td>\n",
       "      <td>...</td>\n",
       "      <td>4</td>\n",
       "      <td>10</td>\n",
       "      <td>1</td>\n",
       "      <td>3</td>\n",
       "      <td>2</td>\n",
       "      <td>2</td>\n",
       "      <td>2</td>\n",
       "      <td>2</td>\n",
       "      <td>No</td>\n",
       "      <td>3</td>\n",
       "    </tr>\n",
       "  </tbody>\n",
       "</table>\n",
       "<p>5 rows × 27 columns</p>\n",
       "</div>"
      ],
      "text/plain": [
       "           Age Gender EducationBackground MaritalStatus    EmpDepartment  \\\n",
       "EmpNumber                                                                  \n",
       "E1001000    32   Male           Marketing        Single            Sales   \n",
       "E1001006    47   Male           Marketing        Single            Sales   \n",
       "E1001007    40   Male       Life Sciences       Married            Sales   \n",
       "E1001009    41   Male     Human Resources      Divorced  Human Resources   \n",
       "E1001010    60   Male           Marketing        Single            Sales   \n",
       "\n",
       "                EmpJobRole BusinessTravelFrequency  DistanceFromHome  \\\n",
       "EmpNumber                                                              \n",
       "E1001000   Sales Executive           Travel_Rarely                10   \n",
       "E1001006   Sales Executive           Travel_Rarely                14   \n",
       "E1001007   Sales Executive       Travel_Frequently                 5   \n",
       "E1001009           Manager           Travel_Rarely                10   \n",
       "E1001010   Sales Executive           Travel_Rarely                16   \n",
       "\n",
       "           EmpEducationLevel  EmpEnvironmentSatisfaction  ...  \\\n",
       "EmpNumber                                                 ...   \n",
       "E1001000                   3                           4  ...   \n",
       "E1001006                   4                           4  ...   \n",
       "E1001007                   4                           4  ...   \n",
       "E1001009                   4                           2  ...   \n",
       "E1001010                   4                           1  ...   \n",
       "\n",
       "           EmpRelationshipSatisfaction  TotalWorkExperienceInYears  \\\n",
       "EmpNumber                                                            \n",
       "E1001000                             4                          10   \n",
       "E1001006                             4                          20   \n",
       "E1001007                             3                          20   \n",
       "E1001009                             2                          23   \n",
       "E1001010                             4                          10   \n",
       "\n",
       "           TrainingTimesLastYear  EmpWorkLifeBalance  \\\n",
       "EmpNumber                                              \n",
       "E1001000                       2                   2   \n",
       "E1001006                       2                   3   \n",
       "E1001007                       2                   3   \n",
       "E1001009                       2                   2   \n",
       "E1001010                       1                   3   \n",
       "\n",
       "           ExperienceYearsAtThisCompany ExperienceYearsInCurrentRole  \\\n",
       "EmpNumber                                                              \n",
       "E1001000                             10                            7   \n",
       "E1001006                              7                            7   \n",
       "E1001007                             18                           13   \n",
       "E1001009                             21                            6   \n",
       "E1001010                              2                            2   \n",
       "\n",
       "           YearsSinceLastPromotion  YearsWithCurrManager  Attrition  \\\n",
       "EmpNumber                                                             \n",
       "E1001000                         0                     8         No   \n",
       "E1001006                         1                     7         No   \n",
       "E1001007                         1                    12         No   \n",
       "E1001009                        12                     6         No   \n",
       "E1001010                         2                     2         No   \n",
       "\n",
       "           PerformanceRating  \n",
       "EmpNumber                     \n",
       "E1001000                   3  \n",
       "E1001006                   3  \n",
       "E1001007                   4  \n",
       "E1001009                   3  \n",
       "E1001010                   3  \n",
       "\n",
       "[5 rows x 27 columns]"
      ]
     },
     "execution_count": 14,
     "metadata": {},
     "output_type": "execute_result"
    }
   ],
   "source": [
    "data.head(5)"
   ]
  },
  {
   "cell_type": "markdown",
   "metadata": {},
   "source": [
    "# Checking for Null Values"
   ]
  },
  {
   "cell_type": "code",
   "execution_count": 15,
   "metadata": {},
   "outputs": [
    {
     "data": {
      "text/plain": [
       "<AxesSubplot:ylabel='EmpNumber'>"
      ]
     },
     "execution_count": 15,
     "metadata": {},
     "output_type": "execute_result"
    },
    {
     "data": {
      "image/png": "[encoded data removed]",
      "text/plain": [
       "<Figure size 432x288 with 2 Axes>"
      ]
     },
     "metadata": {
      "needs_background": "light"
     },
     "output_type": "display_data"
    }
   ],
   "source": [
    "sns.heatmap(data.isnull())"
   ]
  },
  {
   "cell_type": "markdown",
   "metadata": {},
   "source": [
    "We can observe from the above heatmap that there are no null or missing values"
   ]
  },
  {
   "cell_type": "markdown",
   "metadata": {},
   "source": [
    "\n",
    "\n",
    "\n",
    "# Checking for different data types"
   ]
  },
  {
   "cell_type": "code",
   "execution_count": 16,
   "metadata": {},
   "outputs": [
    {
     "name": "stdout",
     "output_type": "stream",
     "text": [
      "<class 'pandas.core.frame.DataFrame'>\n",
      "Index: 1200 entries, E1001000 to E100998\n",
      "Data columns (total 27 columns):\n",
      " #   Column                        Non-Null Count  Dtype \n",
      "---  ------                        --------------  ----- \n",
      " 0   Age                           1200 non-null   int64 \n",
      " 1   Gender                        1200 non-null   object\n",
      " 2   EducationBackground           1200 non-null   object\n",
      " 3   MaritalStatus                 1200 non-null   object\n",
      " 4   EmpDepartment                 1200 non-null   object\n",
      " 5   EmpJobRole                    1200 non-null   object\n",
      " 6   BusinessTravelFrequency       1200 non-null   object\n",
      " 7   DistanceFromHome              1200 non-null   int64 \n",
      " 8   EmpEducationLevel             1200 non-null   int64 \n",
      " 9   EmpEnvironmentSatisfaction    1200 non-null   int64 \n",
      " 10  EmpHourlyRate                 1200 non-null   int64 \n",
      " 11  EmpJobInvolvement             1200 non-null   int64 \n",
      " 12  EmpJobLevel                   1200 non-null   int64 \n",
      " 13  EmpJobSatisfaction            1200 non-null   int64 \n",
      " 14  NumCompaniesWorked            1200 non-null   int64 \n",
      " 15  OverTime                      1200 non-null   object\n",
      " 16  EmpLastSalaryHikePercent      1200 non-null   int64 \n",
      " 17  EmpRelationshipSatisfaction   1200 non-null   int64 \n",
      " 18  TotalWorkExperienceInYears    1200 non-null   int64 \n",
      " 19  TrainingTimesLastYear         1200 non-null   int64 \n",
      " 20  EmpWorkLifeBalance            1200 non-null   int64 \n",
      " 21  ExperienceYearsAtThisCompany  1200 non-null   int64 \n",
      " 22  ExperienceYearsInCurrentRole  1200 non-null   int64 \n",
      " 23  YearsSinceLastPromotion       1200 non-null   int64 \n",
      " 24  YearsWithCurrManager          1200 non-null   int64 \n",
      " 25  Attrition                     1200 non-null   object\n",
      " 26  PerformanceRating             1200 non-null   int64 \n",
      "dtypes: int64(19), object(8)\n",
      "memory usage: 262.5+ KB\n"
     ]
    }
   ],
   "source": [
    "data.info()"
   ]
  },
  {
   "cell_type": "markdown",
   "metadata": {},
   "source": [
    "# EDA"
   ]
  },
  {
   "cell_type": "markdown",
   "metadata": {},
   "source": [
    "## Investigating the distribution of Performace Rating"
   ]
  },
  {
   "cell_type": "code",
   "execution_count": 17,
   "metadata": {},
   "outputs": [
    {
     "data": {
      "image/png": "[encoded data removed]",
      "text/plain": [
       "<Figure size 720x720 with 1 Axes>"
      ]
     },
     "metadata": {},
     "output_type": "display_data"
    }
   ],
   "source": [
    "plt.figure(figsize=(10,10))\n",
    "plt.pie(data.PerformanceRating.value_counts(),labels=data.PerformanceRating.unique(),autopct='%1.2f%%')\n",
    "plt.show()"
   ]
  },
  {
   "cell_type": "markdown",
   "metadata": {},
   "source": [
    "## Univariate Analysis"
   ]
  },
  {
   "cell_type": "code",
   "execution_count": 18,
   "metadata": {},
   "outputs": [],
   "source": [
    "#Performing univariate analysis on EmpEnvironmentSatisfaction as it has the highest correlation with Employee Performance"
   ]
  },
  {
   "cell_type": "code",
   "execution_count": 19,
   "metadata": {},
   "outputs": [],
   "source": [
    "data_goodper = data.loc[data['PerformanceRating']==2]\n",
    "data_excellper = data.loc[data['PerformanceRating']==3]\n",
    "data_outstanper = data.loc[data['PerformanceRating']==4]"
   ]
  },
  {
   "cell_type": "code",
   "execution_count": 20,
   "metadata": {},
   "outputs": [
    {
     "data": {
      "image/png": "[encoded data removed]",
      "text/plain": [
       "<Figure size 432x288 with 1 Axes>"
      ]
     },
     "metadata": {
      "needs_background": "light"
     },
     "output_type": "display_data"
    }
   ],
   "source": [
    "plt.plot(data_goodper['EmpEnvironmentSatisfaction'],np.zeros_like(data_goodper['EmpEnvironmentSatisfaction']))\n",
    "plt.plot(data_excellper['EmpEnvironmentSatisfaction'],np.zeros_like(data_excellper['EmpEnvironmentSatisfaction']))\n",
    "plt.plot(data_outstanper['EmpEnvironmentSatisfaction'],np.zeros_like(data_outstanper['EmpEnvironmentSatisfaction']))\n",
    "plt.show()"
   ]
  },
  {
   "cell_type": "markdown",
   "metadata": {},
   "source": [
    "## We can clearly see that the points are not linearly seperable as there is no clear distinction between them"
   ]
  },
  {
   "cell_type": "markdown",
   "metadata": {},
   "source": [
    "We can rule out using Logistic Regression as the points do not seem to be linearly seperable"
   ]
  },
  {
   "cell_type": "markdown",
   "metadata": {},
   "source": [
    "## Bivariate Analysis"
   ]
  },
  {
   "cell_type": "code",
   "execution_count": 21,
   "metadata": {},
   "outputs": [
    {
     "data": {
      "text/plain": [
       "<seaborn.axisgrid.FacetGrid at 0x15da9b96708>"
      ]
     },
     "execution_count": 21,
     "metadata": {},
     "output_type": "execute_result"
    },
    {
     "data": {
      "image/png": "[encoded data removed]",
      "text/plain": [
       "<Figure size 535.5x432 with 1 Axes>"
      ]
     },
     "metadata": {
      "needs_background": "light"
     },
     "output_type": "display_data"
    }
   ],
   "source": [
    "sns.FacetGrid(data,hue='PerformanceRating',height=6).map(plt.scatter,'EmpEnvironmentSatisfaction','EmpLastSalaryHikePercent').add_legend()"
   ]
  },
  {
   "cell_type": "markdown",
   "metadata": {},
   "source": [
    "We can clearly see that even though the points are seperable,there is no clear distinction between performance rating"
   ]
  },
  {
   "cell_type": "markdown",
   "metadata": {},
   "source": [
    "# DATA PRE-PROCESSING"
   ]
  },
  {
   "cell_type": "code",
   "execution_count": 22,
   "metadata": {},
   "outputs": [],
   "source": [
    "# Encoding all the ordinal columns and creating a dummy variable for them to see if there are any effects on Performance Rating\n",
    "df = data.copy()\n",
    "for i in [1,2,3,4,5,6,15,24]:\n",
    "    df.iloc[:,i] = enc.fit_transform(df.iloc[:,i])"
   ]
  },
  {
   "cell_type": "markdown",
   "metadata": {},
   "source": [
    "# Top Factors Affecting Employee Perfromance Rating"
   ]
  },
  {
   "cell_type": "markdown",
   "metadata": {},
   "source": [
    "In Order to get the Top 3 Factors the follwing methods have been used to determine the Factors\n",
    "1. Correlation Matrix\n",
    "2. Univariate Selection\n",
    "3. Feature Importance"
   ]
  },
  {
   "cell_type": "markdown",
   "metadata": {},
   "source": [
    "### Correlation Matrix"
   ]
  },
  {
   "cell_type": "code",
   "execution_count": 23,
   "metadata": {},
   "outputs": [
    {
     "data": {
      "text/plain": [
       "PerformanceRating               1.000000\n",
       "EmpEnvironmentSatisfaction      0.395561\n",
       "EmpLastSalaryHikePercent        0.333722\n",
       "EmpWorkLifeBalance              0.124429\n",
       "OverTime                        0.050206\n",
       "MaritalStatus                   0.024172\n",
       "NumCompaniesWorked              0.020980\n",
       "EmpEducationLevel               0.020529\n",
       "EducationBackground             0.005607\n",
       "EmpJobSatisfaction              0.000606\n",
       "Gender                         -0.001780\n",
       "TrainingTimesLastYear          -0.005443\n",
       "EmpJobInvolvement              -0.010539\n",
       "EmpRelationshipSatisfaction    -0.019502\n",
       "BusinessTravelFrequency        -0.031025\n",
       "Age                            -0.040164\n",
       "EmpHourlyRate                  -0.043116\n",
       "DistanceFromHome               -0.046142\n",
       "TotalWorkExperienceInYears     -0.068141\n",
       "EmpJobLevel                    -0.076632\n",
       "EmpJobRole                     -0.096209\n",
       "ExperienceYearsAtThisCompany   -0.111645\n",
       "YearsWithCurrManager           -0.122313\n",
       "ExperienceYearsInCurrentRole   -0.147638\n",
       "EmpDepartment                  -0.162615\n",
       "YearsSinceLastPromotion        -0.167629\n",
       "dtype: float64"
      ]
     },
     "execution_count": 23,
     "metadata": {},
     "output_type": "execute_result"
    }
   ],
   "source": [
    "df.corrwith(df.PerformanceRating).sort_values(ascending=False)"
   ]
  },
  {
   "cell_type": "markdown",
   "metadata": {},
   "source": [
    "### Univariate Selection\n"
   ]
  },
  {
   "cell_type": "code",
   "execution_count": 24,
   "metadata": {},
   "outputs": [],
   "source": [
    "X = df.iloc[:,0:25]  #independent columns\n",
    "y = df.iloc[:,26]    #target column i.e Performance Rating"
   ]
  },
  {
   "cell_type": "code",
   "execution_count": 25,
   "metadata": {},
   "outputs": [],
   "source": [
    "#selecting best features\n",
    "bestfeatures = SelectKBest(score_func=chi2, k=10)\n",
    "\n",
    "fit = bestfeatures.fit(X,y)"
   ]
  },
  {
   "cell_type": "code",
   "execution_count": 26,
   "metadata": {},
   "outputs": [],
   "source": [
    "#Storing the Obtained values in dataframes for visualization\n",
    "dfscores = pd.DataFrame(fit.scores_)\n",
    "dfcolumns = pd.DataFrame(X.columns)"
   ]
  },
  {
   "cell_type": "code",
   "execution_count": 27,
   "metadata": {},
   "outputs": [],
   "source": [
    "#concat two dataframes for better visualization \n",
    "featureScores = pd.concat([dfcolumns,dfscores],axis=1)\n",
    "featureScores.columns = ['Feature','Score']  #naming the dataframe columns"
   ]
  },
  {
   "cell_type": "code",
   "execution_count": 28,
   "metadata": {},
   "outputs": [
    {
     "name": "stdout",
     "output_type": "stream",
     "text": [
      "                         Feature       Score\n",
      "16      EmpLastSalaryHikePercent  297.136917\n",
      "23       YearsSinceLastPromotion  238.004284\n",
      "21  ExperienceYearsAtThisCompany  133.602068\n",
      "22  ExperienceYearsInCurrentRole  120.860036\n",
      "9     EmpEnvironmentSatisfaction  110.691319\n",
      "24          YearsWithCurrManager   87.483471\n",
      "4                  EmpDepartment   46.787010\n",
      "18    TotalWorkExperienceInYears   41.593037\n",
      "5                     EmpJobRole   35.896167\n",
      "7               DistanceFromHome   18.650010\n"
     ]
    }
   ],
   "source": [
    "print(featureScores.nlargest(10,'Score'))  #print 10 best features"
   ]
  },
  {
   "cell_type": "markdown",
   "metadata": {},
   "source": [
    "### Feature Importance"
   ]
  },
  {
   "cell_type": "code",
   "execution_count": 29,
   "metadata": {},
   "outputs": [
    {
     "data": {
      "text/plain": [
       "ExtraTreesClassifier()"
      ]
     },
     "execution_count": 29,
     "metadata": {},
     "output_type": "execute_result"
    }
   ],
   "source": [
    "from sklearn.ensemble import ExtraTreesClassifier\n",
    "import matplotlib.pyplot as plt\n",
    "model = ExtraTreesClassifier()\n",
    "model.fit(X,y)"
   ]
  },
  {
   "cell_type": "code",
   "execution_count": 30,
   "metadata": {},
   "outputs": [
    {
     "name": "stdout",
     "output_type": "stream",
     "text": [
      "[0.02691581 0.01819911 0.02298612 0.02253496 0.04707456 0.03157206\n",
      " 0.02070262 0.02894079 0.02602465 0.16234423 0.02987165 0.02333371\n",
      " 0.02326794 0.02556394 0.02521786 0.01452415 0.16496466 0.02427962\n",
      " 0.02634989 0.02690757 0.03396259 0.02896452 0.03981875 0.07541247\n",
      " 0.03026576]\n"
     ]
    }
   ],
   "source": [
    "print(model.feature_importances_) #use inbuilt class feature_importances of tree based classifiers"
   ]
  },
  {
   "cell_type": "code",
   "execution_count": 31,
   "metadata": {},
   "outputs": [
    {
     "data": {
      "image/png": "[encoded data removed]",
      "text/plain": [
       "<Figure size 432x288 with 1 Axes>"
      ]
     },
     "metadata": {
      "needs_background": "light"
     },
     "output_type": "display_data"
    }
   ],
   "source": [
    "feat_importances = pd.Series(model.feature_importances_, index=X.columns)\n",
    "feat_importances.nlargest(10).plot(kind='barh')\n",
    "plt.show()"
   ]
  },
  {
   "cell_type": "markdown",
   "metadata": {},
   "source": [
    "After Comparing the top 10 feature importance scores from all the Tests, it is observed that the top three factors affecting performance rating are as follows: \n",
    "\n",
    " - EmpEnvironmentSatisfaction"
   ]
  },
  {
   "cell_type": "markdown",
   "metadata": {},
   "source": [
    " - EmpLastSalaryHikePercent "
   ]
  },
  {
   "cell_type": "markdown",
   "metadata": {},
   "source": [
    " - YearsSinceLastPromotion"
   ]
  },
  {
   "cell_type": "markdown",
   "metadata": {},
   "source": [
    "# Department -Wise Performance Rating"
   ]
  },
  {
   "cell_type": "code",
   "execution_count": 32,
   "metadata": {},
   "outputs": [
    {
     "name": "stdout",
     "output_type": "stream",
     "text": [
      "EmpDepartment      Data Science  Development  Finance  Human Resources  \\\n",
      "PerformanceRating                                                        \n",
      "2                             1           13       15               10   \n",
      "3                            17          304       30               38   \n",
      "4                             2           44        4                6   \n",
      "\n",
      "EmpDepartment      Research & Development  Sales  \n",
      "PerformanceRating                                 \n",
      "2                                      68     87  \n",
      "3                                     234    251  \n",
      "4                                      41     35  \n"
     ]
    }
   ],
   "source": [
    "dataset_table = pd.crosstab(data['PerformanceRating'],data['EmpDepartment'])\n",
    "print(dataset_table)"
   ]
  },
  {
   "cell_type": "code",
   "execution_count": 33,
   "metadata": {},
   "outputs": [
    {
     "data": {
      "text/plain": [
       "<AxesSubplot:xlabel='EmpDepartment', ylabel='PerformanceRating'>"
      ]
     },
     "execution_count": 33,
     "metadata": {},
     "output_type": "execute_result"
    },
    {
     "data": {
      "image/png": "[encoded data removed]",
      "text/plain": [
       "<Figure size 720x360 with 1 Axes>"
      ]
     },
     "metadata": {
      "needs_background": "light"
     },
     "output_type": "display_data"
    }
   ],
   "source": [
    "#HighLevel View of Data\n",
    "df.groupby(by='EmpDepartment')['PerformanceRating'].mean()\n",
    "fig = plt.figure(figsize=(10,5))\n",
    "sns.barplot(x='EmpDepartment',y='PerformanceRating',data=data)"
   ]
  },
  {
   "cell_type": "markdown",
   "metadata": {},
   "source": [
    "We cannot conclude with this data as there is variation between true values as the total number of records are not uniform in the data set"
   ]
  },
  {
   "cell_type": "markdown",
   "metadata": {},
   "source": [
    "### In order to understand the true deparment-wise performance, we will need to investigate the breakup of the performances in each department"
   ]
  },
  {
   "cell_type": "code",
   "execution_count": 34,
   "metadata": {},
   "outputs": [
    {
     "data": {
      "text/plain": [
       "<Figure size 1440x1440 with 0 Axes>"
      ]
     },
     "metadata": {},
     "output_type": "display_data"
    },
    {
     "data": {
      "image/png": "[encoded data removed]",
      "text/plain": [
       "<Figure size 432x288 with 6 Axes>"
      ]
     },
     "metadata": {},
     "output_type": "display_data"
    }
   ],
   "source": [
    "fig = plt.figure(figsize=(20,20))\n",
    "fig,ax = plt.subplots(2,3)\n",
    "ax[0,0].pie(dataset_table['Data Science'],autopct='%1.2f%%',labels=[2,3,4])\n",
    "ax[0,0].set_title('Data Science')\n",
    "\n",
    "ax[0,1].pie(dataset_table['Development'],autopct='%1.2f%%',labels=[2,3,4])\n",
    "ax[0,1].set_title('Development')\n",
    "\n",
    "ax[0,2].pie(dataset_table['Finance'],autopct='%1.2f%%',labels=[2,3,4])\n",
    "ax[0,2].set_title('Finance')\n",
    "\n",
    "ax[1,0].pie(dataset_table['Human Resources'],autopct='%1.2f%%',labels=[2,3,4])\n",
    "ax[1,0].set_title('Human Resources')\n",
    "\n",
    "ax[1,1].pie(dataset_table['Research & Development'],autopct='%1.2f%%',labels=[2,3,4])\n",
    "ax[1,1].set_title('R&D')\n",
    "\n",
    "ax[1,2].pie(dataset_table['Sales'],autopct='%1.2f%%',labels=[2,3,4])\n",
    "ax[1,2].set_title('Sales')\n",
    "\n",
    "\n",
    "plt.tight_layout()\n",
    "plt.show()"
   ]
  },
  {
   "cell_type": "markdown",
   "metadata": {},
   "source": [
    "### We can see from the above plot the top performing Departments are:\n",
    "(Ranking  by comparing the Overall Percentage of Excellent and Outstanding Employees in a given Department)\n",
    "\n",
    "1.Development "
   ]
  },
  {
   "cell_type": "markdown",
   "metadata": {},
   "source": [
    "2.Data Science "
   ]
  },
  {
   "cell_type": "markdown",
   "metadata": {},
   "source": [
    "3.Human Resources"
   ]
  },
  {
   "cell_type": "markdown",
   "metadata": {},
   "source": [
    "### Investigating the relationship between Education Background and  Performance Rating"
   ]
  },
  {
   "cell_type": "code",
   "execution_count": 35,
   "metadata": {},
   "outputs": [
    {
     "name": "stdout",
     "output_type": "stream",
     "text": [
      "EducationBackground  Human Resources  Life Sciences  Marketing  Medical  \\\n",
      "PerformanceRating                                                         \n",
      "2                                  3             78         29       63   \n",
      "3                                 16            357         94      281   \n",
      "4                                  2             57         14       40   \n",
      "\n",
      "EducationBackground  Other  Technical Degree  \n",
      "PerformanceRating                             \n",
      "2                        3                18  \n",
      "3                       56                70  \n",
      "4                        7                12  \n"
     ]
    }
   ],
   "source": [
    "#Segregating the Perfomance Categories with respect to Education Background\n",
    "dataset_table2 = pd.crosstab(data['PerformanceRating'],data['EducationBackground'])\n",
    "print(dataset_table2)"
   ]
  },
  {
   "cell_type": "code",
   "execution_count": 36,
   "metadata": {},
   "outputs": [
    {
     "data": {
      "text/plain": [
       "<Figure size 1440x1440 with 0 Axes>"
      ]
     },
     "metadata": {},
     "output_type": "display_data"
    },
    {
     "data": {
      "image/png": "[encoded data removed]",
      "text/plain": [
       "<Figure size 432x288 with 6 Axes>"
      ]
     },
     "metadata": {},
     "output_type": "display_data"
    }
   ],
   "source": [
    "#Plotting the relationship\n",
    "fig = plt.figure(figsize=(20,20))\n",
    "fig,ax = plt.subplots(2,3)\n",
    "ax[0,0].pie(dataset_table2['Human Resources'],autopct='%1.2f%%',labels=[2,3,4])\n",
    "ax[0,0].set_title('Human Resources')\n",
    "\n",
    "ax[0,1].pie(dataset_table2['Life Sciences'],autopct='%1.2f%%',labels=[2,3,4])\n",
    "ax[0,1].set_title('Life Sciences')\n",
    "\n",
    "ax[0,2].pie(dataset_table2['Marketing'],autopct='%1.2f%%',labels=[2,3,4])\n",
    "ax[0,2].set_title('Marketing')\n",
    "\n",
    "ax[1,0].pie(dataset_table2['Medical'],autopct='%1.2f%%',labels=[2,3,4])\n",
    "ax[1,0].set_title('Medical')\n",
    "\n",
    "ax[1,1].pie(dataset_table2['Other'],autopct='%1.2f%%',labels=[2,3,4])\n",
    "ax[1,1].set_title('Other')\n",
    "\n",
    "ax[1,2].pie(dataset_table2['Technical Degree'],autopct='%1.2f%%',labels=[2,3,4])\n",
    "ax[1,2].set_title('Technical Degree')\n",
    "\n",
    "\n",
    "plt.tight_layout()\n",
    "plt.show()"
   ]
  },
  {
   "cell_type": "markdown",
   "metadata": {},
   "source": [
    "Observation: The Candidates with a Marketing Background underperform when compared to other Educational Backgrounds."
   ]
  },
  {
   "cell_type": "markdown",
   "metadata": {},
   "source": [
    "### Investigating the relationship between Employee Performance and Years Since Last Promotion"
   ]
  },
  {
   "cell_type": "code",
   "execution_count": 37,
   "metadata": {},
   "outputs": [
    {
     "name": "stdout",
     "output_type": "stream",
     "text": [
      "Mean Years since last promotion for employees with a Performance Score of 2: 3.695876288659794\n",
      "Mean Years since last promotion for employees with a Performance Score of 3: 1.9118993135011442\n",
      "Mean Years since last promotion for employees with a Performance Score of 4: 1.856060606060606\n"
     ]
    },
    {
     "data": {
      "image/png": "[encoded data removed]",
      "text/plain": [
       "<Figure size 432x288 with 1 Axes>"
      ]
     },
     "metadata": {
      "needs_background": "light"
     },
     "output_type": "display_data"
    }
   ],
   "source": [
    "sns.boxplot(x='PerformanceRating',y='YearsSinceLastPromotion',data=data)\n",
    "print('Mean Years since last promotion for employees with a Performance Score of 2:',data_goodper['YearsSinceLastPromotion'].mean())\n",
    "print('Mean Years since last promotion for employees with a Performance Score of 3:',data_excellper['YearsSinceLastPromotion'].mean())\n",
    "print('Mean Years since last promotion for employees with a Performance Score of 4:',data_outstanper['YearsSinceLastPromotion'].mean())"
   ]
  },
  {
   "cell_type": "markdown",
   "metadata": {},
   "source": [
    "Ovservation: Promoting an employee every 2 years seems to boost employee performance"
   ]
  },
  {
   "cell_type": "markdown",
   "metadata": {},
   "source": [
    "### Investigating the relationship between employee experience in current role and performance"
   ]
  },
  {
   "cell_type": "code",
   "execution_count": 38,
   "metadata": {},
   "outputs": [
    {
     "name": "stdout",
     "output_type": "stream",
     "text": [
      "Mean of Experience in current role with a Performance Score of 2: 5.788659793814433\n",
      "Mean of Experience in current role with a Performance Score of 3: 4.006864988558353\n",
      "Mean of Experience in current role with a Performance Score of 4: 3.977272727272727\n"
     ]
    },
    {
     "data": {
      "text/plain": [
       "<Figure size 864x864 with 0 Axes>"
      ]
     },
     "metadata": {},
     "output_type": "display_data"
    },
    {
     "data": {
      "image/png": "[encoded data removed]",
      "text/plain": [
       "<Figure size 648x216 with 3 Axes>"
      ]
     },
     "metadata": {},
     "output_type": "display_data"
    }
   ],
   "source": [
    "plt.figure(figsize=(12,12))\n",
    "\n",
    "sns.set_style(\"darkgrid\")\n",
    "\n",
    "g=sns.FacetGrid(data,col=\"PerformanceRating\")\n",
    "g.map(sns.distplot,\"ExperienceYearsInCurrentRole\")\n",
    "\n",
    "print('Mean of Experience in current role with a Performance Score of 2:',data_goodper['ExperienceYearsInCurrentRole'].mean())\n",
    "print('Mean of Experience in current role with a Performance Score of 3:',data_excellper['ExperienceYearsInCurrentRole'].mean())\n",
    "print('Mean of Experience in current role with a Performance Score of 4:',data_outstanper['ExperienceYearsInCurrentRole'].mean())\n"
   ]
  },
  {
   "cell_type": "markdown",
   "metadata": {},
   "source": [
    "Observation:It is observed that candidates with over 5 years of experience in their current roles underperformed when compared to candidates with less than 5 years of experience"
   ]
  },
  {
   "cell_type": "markdown",
   "metadata": {},
   "source": [
    "# Splitting the data "
   ]
  },
  {
   "cell_type": "code",
   "execution_count": 57,
   "metadata": {},
   "outputs": [
    {
     "name": "stdout",
     "output_type": "stream",
     "text": [
      "<class 'pandas.core.frame.DataFrame'>\n",
      "Index: 1200 entries, E1001000 to E100998\n",
      "Data columns (total 27 columns):\n",
      " #   Column                        Non-Null Count  Dtype \n",
      "---  ------                        --------------  ----- \n",
      " 0   Age                           1200 non-null   int64 \n",
      " 1   Gender                        1200 non-null   object\n",
      " 2   EducationBackground           1200 non-null   object\n",
      " 3   MaritalStatus                 1200 non-null   object\n",
      " 4   EmpDepartment                 1200 non-null   object\n",
      " 5   EmpJobRole                    1200 non-null   object\n",
      " 6   BusinessTravelFrequency       1200 non-null   object\n",
      " 7   DistanceFromHome              1200 non-null   int64 \n",
      " 8   EmpEducationLevel             1200 non-null   int64 \n",
      " 9   EmpEnvironmentSatisfaction    1200 non-null   int64 \n",
      " 10  EmpHourlyRate                 1200 non-null   int64 \n",
      " 11  EmpJobInvolvement             1200 non-null   int64 \n",
      " 12  EmpJobLevel                   1200 non-null   int64 \n",
      " 13  EmpJobSatisfaction            1200 non-null   int64 \n",
      " 14  NumCompaniesWorked            1200 non-null   int64 \n",
      " 15  OverTime                      1200 non-null   object\n",
      " 16  EmpLastSalaryHikePercent      1200 non-null   int64 \n",
      " 17  EmpRelationshipSatisfaction   1200 non-null   int64 \n",
      " 18  TotalWorkExperienceInYears    1200 non-null   int64 \n",
      " 19  TrainingTimesLastYear         1200 non-null   int64 \n",
      " 20  EmpWorkLifeBalance            1200 non-null   int64 \n",
      " 21  ExperienceYearsAtThisCompany  1200 non-null   int64 \n",
      " 22  ExperienceYearsInCurrentRole  1200 non-null   int64 \n",
      " 23  YearsSinceLastPromotion       1200 non-null   int64 \n",
      " 24  YearsWithCurrManager          1200 non-null   int64 \n",
      " 25  Attrition                     1200 non-null   object\n",
      " 26  PerformanceRating             1200 non-null   int64 \n",
      "dtypes: int64(19), object(8)\n",
      "memory usage: 294.8+ KB\n"
     ]
    }
   ],
   "source": [
    "from sklearn.model_selection import train_test_split\n",
    "from sklearn.decomposition import PCA\n",
    "pca = PCA(n_components=5)\n",
    "data.info()"
   ]
  },
  {
   "cell_type": "code",
   "execution_count": 68,
   "metadata": {},
   "outputs": [],
   "source": [
    "\n",
    "X = df.iloc[:,[16,23,21,22]] #taking the top 10 features that have the most impact on the target variable\n",
    "y = df.iloc[:,26]"
   ]
  },
  {
   "cell_type": "code",
   "execution_count": 69,
   "metadata": {},
   "outputs": [],
   "source": [
    "x_train,x_test,y_train,y_test = train_test_split(X,y,test_size=0.3,random_state=101)"
   ]
  },
  {
   "cell_type": "code",
   "execution_count": 70,
   "metadata": {},
   "outputs": [
    {
     "data": {
      "text/plain": [
       "(840, 4)"
      ]
     },
     "execution_count": 70,
     "metadata": {},
     "output_type": "execute_result"
    }
   ],
   "source": [
    "#Standardizing the input variables as the units vary from feature to feature\n",
    "sc = StandardScaler()\n",
    "x_train = sc.fit_transform(x_train)\n",
    "x_test = sc.transform(x_test)\n",
    "x_train.shape\n",
    "#pca.fit(x_train)\n",
    "#pca.fit(x_test)"
   ]
  },
  {
   "cell_type": "code",
   "execution_count": 71,
   "metadata": {},
   "outputs": [],
   "source": [
    "#x1_train = pca.transform(x_train)\n",
    "#x1_test = pca.transform(x_test)"
   ]
  },
  {
   "cell_type": "markdown",
   "metadata": {},
   "source": [
    "# Models"
   ]
  },
  {
   "cell_type": "markdown",
   "metadata": {},
   "source": [
    "\n",
    "As the target variable is to predict employee performance which falls under discrete data type. Based on this non-linearly seperable  data, it was observed that Random Forest with GridSearchCV gives the maximum accuracy of 93.8% which was used to develop the model.\n",
    "In the sections below, classification alogrithms were chosen to train the model, and specifically classification alogrithms which are able to classify non-linearly seperable data such as - Random Forest,Support Vector Machines, XGBoost Classifier and Artificial Neural Networks were used in order to develop a model that was  able to predict employee performance based on the input variables, it was observed that Random Forest with GridSearchCV gives the maximum accuracy of 93.8%. Therefore Random Forest with GridSearchCV can be chosen to fit the bussiness case.\n",
    "\n",
    "Note: PCA was also used in training the model which led to lower accuracy than the factors chosen by feature selection techniques and hence was not implemented in the model.\n"
   ]
  },
  {
   "cell_type": "markdown",
   "metadata": {},
   "source": [
    "# 1. Random Forest Classifier"
   ]
  },
  {
   "cell_type": "code",
   "execution_count": 72,
   "metadata": {},
   "outputs": [],
   "source": [
    "from sklearn.ensemble import RandomForestClassifier\n",
    "model = RandomForestClassifier()\n",
    "model1 = RandomForestClassifier()\n"
   ]
  },
  {
   "cell_type": "code",
   "execution_count": 73,
   "metadata": {},
   "outputs": [
    {
     "data": {
      "text/plain": [
       "RandomForestClassifier()"
      ]
     },
     "execution_count": 73,
     "metadata": {},
     "output_type": "execute_result"
    }
   ],
   "source": [
    "#Training the model\n",
    "model.fit(x_train,y_train)\n",
    "#Training the model with PCA components\n",
    "#model1.fit(x1_train,y_train)"
   ]
  },
  {
   "cell_type": "code",
   "execution_count": 74,
   "metadata": {},
   "outputs": [],
   "source": [
    "#Predicting the model\n",
    "predictions =model.predict(x_test)\n",
    "#predictions_pca = model1.predict(x1_test)"
   ]
  },
  {
   "cell_type": "code",
   "execution_count": 75,
   "metadata": {},
   "outputs": [
    {
     "name": "stdout",
     "output_type": "stream",
     "text": [
      "              precision    recall  f1-score   support\n",
      "\n",
      "           2       0.19      0.13      0.16        52\n",
      "           3       0.84      0.89      0.87       276\n",
      "           4       0.60      0.56      0.58        32\n",
      "\n",
      "    accuracy                           0.76       360\n",
      "   macro avg       0.54      0.53      0.54       360\n",
      "weighted avg       0.73      0.76      0.74       360\n",
      "\n",
      "\n",
      "\n",
      "0.7555555555555555\n"
     ]
    }
   ],
   "source": [
    "#Finding accuracy, classification report\n",
    "print(classification_report(y_test,predictions))\n",
    "print('\\n')\n",
    "print(accuracy_score(y_test,predictions))"
   ]
  },
  {
   "cell_type": "code",
   "execution_count": 76,
   "metadata": {},
   "outputs": [],
   "source": [
    "#Finding accuracy, classification report with PCA\n",
    "#print(classification_report(y_test,predictions_pca))\n",
    "#print('\\n')\n",
    "#print(accuracy_score(y_test,predictions_pca))"
   ]
  },
  {
   "cell_type": "markdown",
   "metadata": {},
   "source": [
    "Using PCA it is observed that the model accuracy  was reduced  by ~10%,therefore the original set of factors that were derived by feature selection techniques were chosen."
   ]
  },
  {
   "cell_type": "markdown",
   "metadata": {},
   "source": [
    "# Tuning Hyper Parameters using GridSearch"
   ]
  },
  {
   "cell_type": "code",
   "execution_count": 49,
   "metadata": {},
   "outputs": [],
   "source": [
    "from sklearn.model_selection import GridSearchCV"
   ]
  },
  {
   "cell_type": "code",
   "execution_count": 50,
   "metadata": {},
   "outputs": [],
   "source": [
    "#finding Best parameters using grid search\n",
    "param_grid={'n_estimators':[100,200,300,400],'criterion' :[\"gini\"]}\n",
    "grid = GridSearchCV(RandomForestClassifier(),param_grid,verbose=3)\n"
   ]
  },
  {
   "cell_type": "code",
   "execution_count": 51,
   "metadata": {},
   "outputs": [
    {
     "name": "stdout",
     "output_type": "stream",
     "text": [
      "Fitting 5 folds for each of 4 candidates, totalling 20 fits\n",
      "[CV 1/5] END ..criterion=gini, n_estimators=100;, score=0.946 total time=   0.1s\n",
      "[CV 2/5] END ..criterion=gini, n_estimators=100;, score=0.940 total time=   0.1s\n",
      "[CV 3/5] END ..criterion=gini, n_estimators=100;, score=0.946 total time=   0.1s\n",
      "[CV 4/5] END ..criterion=gini, n_estimators=100;, score=0.905 total time=   0.1s\n",
      "[CV 5/5] END ..criterion=gini, n_estimators=100;, score=0.923 total time=   0.1s\n",
      "[CV 1/5] END ..criterion=gini, n_estimators=200;, score=0.946 total time=   0.3s\n",
      "[CV 2/5] END ..criterion=gini, n_estimators=200;, score=0.935 total time=   0.3s\n",
      "[CV 3/5] END ..criterion=gini, n_estimators=200;, score=0.940 total time=   0.2s\n",
      "[CV 4/5] END ..criterion=gini, n_estimators=200;, score=0.911 total time=   0.2s\n",
      "[CV 5/5] END ..criterion=gini, n_estimators=200;, score=0.935 total time=   0.2s\n",
      "[CV 1/5] END ..criterion=gini, n_estimators=300;, score=0.946 total time=   0.5s\n",
      "[CV 2/5] END ..criterion=gini, n_estimators=300;, score=0.940 total time=   0.4s\n",
      "[CV 3/5] END ..criterion=gini, n_estimators=300;, score=0.940 total time=   0.4s\n",
      "[CV 4/5] END ..criterion=gini, n_estimators=300;, score=0.905 total time=   0.4s\n",
      "[CV 5/5] END ..criterion=gini, n_estimators=300;, score=0.935 total time=   0.4s\n",
      "[CV 1/5] END ..criterion=gini, n_estimators=400;, score=0.946 total time=   0.5s\n",
      "[CV 2/5] END ..criterion=gini, n_estimators=400;, score=0.940 total time=   0.6s\n",
      "[CV 3/5] END ..criterion=gini, n_estimators=400;, score=0.940 total time=   0.6s\n",
      "[CV 4/5] END ..criterion=gini, n_estimators=400;, score=0.905 total time=   0.6s\n",
      "[CV 5/5] END ..criterion=gini, n_estimators=400;, score=0.929 total time=   0.6s\n"
     ]
    },
    {
     "data": {
      "text/plain": [
       "GridSearchCV(estimator=RandomForestClassifier(),\n",
       "             param_grid={'criterion': ['gini'],\n",
       "                         'n_estimators': [100, 200, 300, 400]},\n",
       "             verbose=3)"
      ]
     },
     "execution_count": 51,
     "metadata": {},
     "output_type": "execute_result"
    }
   ],
   "source": [
    "#Training the model\n",
    "grid.fit(x_train,y_train)"
   ]
  },
  {
   "cell_type": "code",
   "execution_count": 52,
   "metadata": {},
   "outputs": [
    {
     "data": {
      "text/plain": [
       "{'criterion': 'gini', 'n_estimators': 300}"
      ]
     },
     "execution_count": 52,
     "metadata": {},
     "output_type": "execute_result"
    }
   ],
   "source": [
    "grid.best_params_"
   ]
  },
  {
   "cell_type": "code",
   "execution_count": 53,
   "metadata": {},
   "outputs": [],
   "source": [
    "#predicting the model\n",
    "predictions = grid.predict(x_test)"
   ]
  },
  {
   "cell_type": "code",
   "execution_count": 54,
   "metadata": {},
   "outputs": [
    {
     "name": "stdout",
     "output_type": "stream",
     "text": [
      "              precision    recall  f1-score   support\n",
      "\n",
      "           2       0.88      0.85      0.86        52\n",
      "           3       0.95      0.97      0.96       276\n",
      "           4       0.93      0.78      0.85        32\n",
      "\n",
      "    accuracy                           0.94       360\n",
      "   macro avg       0.92      0.87      0.89       360\n",
      "weighted avg       0.94      0.94      0.94       360\n",
      "\n",
      "\n",
      "\n",
      "Accuracy Score 0.9388888888888889\n"
     ]
    }
   ],
   "source": [
    "print(classification_report(y_test,predictions))\n",
    "print('\\n')\n",
    "print('Accuracy Score',accuracy_score(y_test,predictions))"
   ]
  },
  {
   "cell_type": "code",
   "execution_count": 77,
   "metadata": {},
   "outputs": [
    {
     "data": {
      "text/plain": [
       "<function BufferedWriter.close>"
      ]
     },
     "execution_count": 77,
     "metadata": {},
     "output_type": "execute_result"
    }
   ],
   "source": [
    "#import pickle file\n",
    "import pickle\n",
    "pickle_out = open(\"model.pkl\",'wb')\n",
    "pickle.dump(model,pickle_out)\n",
    "pickle_out.close\n"
   ]
  },
  {
   "cell_type": "code",
   "execution_count": 8,
   "metadata": {},
   "outputs": [
    {
     "name": "stdout",
     "output_type": "stream",
     "text": [
      "<module 'pandas' (namespace)>\n"
     ]
    }
   ],
   "source": [
    "print(pd)"
   ]
  },
  {
   "cell_type": "code",
   "execution_count": 4,
   "metadata": {},
   "outputs": [
    {
     "name": "stdout",
     "output_type": "stream",
     "text": [
      "None\n"
     ]
    }
   ],
   "source": []
  },
  {
   "cell_type": "code",
   "execution_count": null,
   "metadata": {},
   "outputs": [],
   "source": []
  }
 ],
 "metadata": {
  "kernelspec": {
   "display_name": "Python 3",
   "language": "python",
   "name": "python3"
  },
  "language_info": {
   "codemirror_mode": {
    "name": "ipython",
    "version": 3
   },
   "file_extension": ".py",
   "mimetype": "text/x-python",
   "name": "python",
   "nbconvert_exporter": "python",
   "pygments_lexer": "ipython3",
   "version": "3.7.6"
  }
 },
 "nbformat": 4,
 "nbformat_minor": 4
}
