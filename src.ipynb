{
 "cells": [
  {
   "cell_type": "markdown",
   "metadata": {},
   "source": [
    "# Importing the necessary libraries "
   ]
  },
  {
   "cell_type": "code",
   "execution_count": 6,
   "metadata": {},
   "outputs": [],
   "source": [
    "import numpy as np\n",
    "import pandas as pd\n",
    "import matplotlib.pyplot as plt\n",
    "import seaborn as sns\n",
    "import plotly.express as pv\n",
    "import warnings\n",
    "from sklearn.feature_selection import SelectKBest\n",
    "from sklearn.feature_selection import chi2,f_oneway\n",
    "from sklearn.metrics import accuracy_score,classification_report,confusion_matrix\n",
    "from sklearn.preprocessing import LabelEncoder,StandardScaler\n",
    "\n",
    "warnings.filterwarnings('ignore')\n",
    "\n",
    "enc = LabelEncoder()\n",
    "\n",
    "%matplotlib inline"
   ]
  },
  {
   "cell_type": "markdown",
   "metadata": {},
   "source": [
    "# Importing the Dataset and setting the index column as EmpNumber"
   ]
  },
  {
   "cell_type": "code",
   "execution_count": 7,
   "metadata": {},
   "outputs": [],
   "source": [
    "data = pd.read_excel('INX_Future_Inc_Employee_Performance_CDS_Project2_Data_V1.8.xls',index_col=0)"
   ]
  },
  {
   "cell_type": "markdown",
   "metadata": {},
   "source": [
    "# RAW DATA"
   ]
  },
  {
   "cell_type": "code",
   "execution_count": 8,
   "metadata": {},
   "outputs": [
    {
     "data": {
      "text/html": [
       "<div>\n",
       "<style scoped>\n",
       "    .dataframe tbody tr th:only-of-type {\n",
       "        vertical-align: middle;\n",
       "    }\n",
       "\n",
       "    .dataframe tbody tr th {\n",
       "        vertical-align: top;\n",
       "    }\n",
       "\n",
       "    .dataframe thead th {\n",
       "        text-align: right;\n",
       "    }\n",
       "</style>\n",
       "<table border=\"1\" class=\"dataframe\">\n",
       "  <thead>\n",
       "    <tr style=\"text-align: right;\">\n",
       "      <th></th>\n",
       "      <th>Age</th>\n",
       "      <th>Gender</th>\n",
       "      <th>EducationBackground</th>\n",
       "      <th>MaritalStatus</th>\n",
       "      <th>EmpDepartment</th>\n",
       "      <th>EmpJobRole</th>\n",
       "      <th>BusinessTravelFrequency</th>\n",
       "      <th>DistanceFromHome</th>\n",
       "      <th>EmpEducationLevel</th>\n",
       "      <th>EmpEnvironmentSatisfaction</th>\n",
       "      <th>...</th>\n",
       "      <th>EmpRelationshipSatisfaction</th>\n",
       "      <th>TotalWorkExperienceInYears</th>\n",
       "      <th>TrainingTimesLastYear</th>\n",
       "      <th>EmpWorkLifeBalance</th>\n",
       "      <th>ExperienceYearsAtThisCompany</th>\n",
       "      <th>ExperienceYearsInCurrentRole</th>\n",
       "      <th>YearsSinceLastPromotion</th>\n",
       "      <th>YearsWithCurrManager</th>\n",
       "      <th>Attrition</th>\n",
       "      <th>PerformanceRating</th>\n",
       "    </tr>\n",
       "    <tr>\n",
       "      <th>EmpNumber</th>\n",
       "      <th></th>\n",
       "      <th></th>\n",
       "      <th></th>\n",
       "      <th></th>\n",
       "      <th></th>\n",
       "      <th></th>\n",
       "      <th></th>\n",
       "      <th></th>\n",
       "      <th></th>\n",
       "      <th></th>\n",
       "      <th></th>\n",
       "      <th></th>\n",
       "      <th></th>\n",
       "      <th></th>\n",
       "      <th></th>\n",
       "      <th></th>\n",
       "      <th></th>\n",
       "      <th></th>\n",
       "      <th></th>\n",
       "      <th></th>\n",
       "      <th></th>\n",
       "    </tr>\n",
       "  </thead>\n",
       "  <tbody>\n",
       "    <tr>\n",
       "      <th>E1001000</th>\n",
       "      <td>32</td>\n",
       "      <td>Male</td>\n",
       "      <td>Marketing</td>\n",
       "      <td>Single</td>\n",
       "      <td>Sales</td>\n",
       "      <td>Sales Executive</td>\n",
       "      <td>Travel_Rarely</td>\n",
       "      <td>10</td>\n",
       "      <td>3</td>\n",
       "      <td>4</td>\n",
       "      <td>...</td>\n",
       "      <td>4</td>\n",
       "      <td>10</td>\n",
       "      <td>2</td>\n",
       "      <td>2</td>\n",
       "      <td>10</td>\n",
       "      <td>7</td>\n",
       "      <td>0</td>\n",
       "      <td>8</td>\n",
       "      <td>No</td>\n",
       "      <td>3</td>\n",
       "    </tr>\n",
       "    <tr>\n",
       "      <th>E1001006</th>\n",
       "      <td>47</td>\n",
       "      <td>Male</td>\n",
       "      <td>Marketing</td>\n",
       "      <td>Single</td>\n",
       "      <td>Sales</td>\n",
       "      <td>Sales Executive</td>\n",
       "      <td>Travel_Rarely</td>\n",
       "      <td>14</td>\n",
       "      <td>4</td>\n",
       "      <td>4</td>\n",
       "      <td>...</td>\n",
       "      <td>4</td>\n",
       "      <td>20</td>\n",
       "      <td>2</td>\n",
       "      <td>3</td>\n",
       "      <td>7</td>\n",
       "      <td>7</td>\n",
       "      <td>1</td>\n",
       "      <td>7</td>\n",
       "      <td>No</td>\n",
       "      <td>3</td>\n",
       "    </tr>\n",
       "    <tr>\n",
       "      <th>E1001007</th>\n",
       "      <td>40</td>\n",
       "      <td>Male</td>\n",
       "      <td>Life Sciences</td>\n",
       "      <td>Married</td>\n",
       "      <td>Sales</td>\n",
       "      <td>Sales Executive</td>\n",
       "      <td>Travel_Frequently</td>\n",
       "      <td>5</td>\n",
       "      <td>4</td>\n",
       "      <td>4</td>\n",
       "      <td>...</td>\n",
       "      <td>3</td>\n",
       "      <td>20</td>\n",
       "      <td>2</td>\n",
       "      <td>3</td>\n",
       "      <td>18</td>\n",
       "      <td>13</td>\n",
       "      <td>1</td>\n",
       "      <td>12</td>\n",
       "      <td>No</td>\n",
       "      <td>4</td>\n",
       "    </tr>\n",
       "    <tr>\n",
       "      <th>E1001009</th>\n",
       "      <td>41</td>\n",
       "      <td>Male</td>\n",
       "      <td>Human Resources</td>\n",
       "      <td>Divorced</td>\n",
       "      <td>Human Resources</td>\n",
       "      <td>Manager</td>\n",
       "      <td>Travel_Rarely</td>\n",
       "      <td>10</td>\n",
       "      <td>4</td>\n",
       "      <td>2</td>\n",
       "      <td>...</td>\n",
       "      <td>2</td>\n",
       "      <td>23</td>\n",
       "      <td>2</td>\n",
       "      <td>2</td>\n",
       "      <td>21</td>\n",
       "      <td>6</td>\n",
       "      <td>12</td>\n",
       "      <td>6</td>\n",
       "      <td>No</td>\n",
       "      <td>3</td>\n",
       "    </tr>\n",
       "    <tr>\n",
       "      <th>E1001010</th>\n",
       "      <td>60</td>\n",
       "      <td>Male</td>\n",
       "      <td>Marketing</td>\n",
       "      <td>Single</td>\n",
       "      <td>Sales</td>\n",
       "      <td>Sales Executive</td>\n",
       "      <td>Travel_Rarely</td>\n",
       "      <td>16</td>\n",
       "      <td>4</td>\n",
       "      <td>1</td>\n",
       "      <td>...</td>\n",
       "      <td>4</td>\n",
       "      <td>10</td>\n",
       "      <td>1</td>\n",
       "      <td>3</td>\n",
       "      <td>2</td>\n",
       "      <td>2</td>\n",
       "      <td>2</td>\n",
       "      <td>2</td>\n",
       "      <td>No</td>\n",
       "      <td>3</td>\n",
       "    </tr>\n",
       "  </tbody>\n",
       "</table>\n",
       "<p>5 rows × 27 columns</p>\n",
       "</div>"
      ],
      "text/plain": [
       "           Age Gender EducationBackground MaritalStatus    EmpDepartment  \\\n",
       "EmpNumber                                                                  \n",
       "E1001000    32   Male           Marketing        Single            Sales   \n",
       "E1001006    47   Male           Marketing        Single            Sales   \n",
       "E1001007    40   Male       Life Sciences       Married            Sales   \n",
       "E1001009    41   Male     Human Resources      Divorced  Human Resources   \n",
       "E1001010    60   Male           Marketing        Single            Sales   \n",
       "\n",
       "                EmpJobRole BusinessTravelFrequency  DistanceFromHome  \\\n",
       "EmpNumber                                                              \n",
       "E1001000   Sales Executive           Travel_Rarely                10   \n",
       "E1001006   Sales Executive           Travel_Rarely                14   \n",
       "E1001007   Sales Executive       Travel_Frequently                 5   \n",
       "E1001009           Manager           Travel_Rarely                10   \n",
       "E1001010   Sales Executive           Travel_Rarely                16   \n",
       "\n",
       "           EmpEducationLevel  EmpEnvironmentSatisfaction  ...  \\\n",
       "EmpNumber                                                 ...   \n",
       "E1001000                   3                           4  ...   \n",
       "E1001006                   4                           4  ...   \n",
       "E1001007                   4                           4  ...   \n",
       "E1001009                   4                           2  ...   \n",
       "E1001010                   4                           1  ...   \n",
       "\n",
       "           EmpRelationshipSatisfaction  TotalWorkExperienceInYears  \\\n",
       "EmpNumber                                                            \n",
       "E1001000                             4                          10   \n",
       "E1001006                             4                          20   \n",
       "E1001007                             3                          20   \n",
       "E1001009                             2                          23   \n",
       "E1001010                             4                          10   \n",
       "\n",
       "           TrainingTimesLastYear  EmpWorkLifeBalance  \\\n",
       "EmpNumber                                              \n",
       "E1001000                       2                   2   \n",
       "E1001006                       2                   3   \n",
       "E1001007                       2                   3   \n",
       "E1001009                       2                   2   \n",
       "E1001010                       1                   3   \n",
       "\n",
       "           ExperienceYearsAtThisCompany ExperienceYearsInCurrentRole  \\\n",
       "EmpNumber                                                              \n",
       "E1001000                             10                            7   \n",
       "E1001006                              7                            7   \n",
       "E1001007                             18                           13   \n",
       "E1001009                             21                            6   \n",
       "E1001010                              2                            2   \n",
       "\n",
       "           YearsSinceLastPromotion  YearsWithCurrManager  Attrition  \\\n",
       "EmpNumber                                                             \n",
       "E1001000                         0                     8         No   \n",
       "E1001006                         1                     7         No   \n",
       "E1001007                         1                    12         No   \n",
       "E1001009                        12                     6         No   \n",
       "E1001010                         2                     2         No   \n",
       "\n",
       "           PerformanceRating  \n",
       "EmpNumber                     \n",
       "E1001000                   3  \n",
       "E1001006                   3  \n",
       "E1001007                   4  \n",
       "E1001009                   3  \n",
       "E1001010                   3  \n",
       "\n",
       "[5 rows x 27 columns]"
      ]
     },
     "execution_count": 8,
     "metadata": {},
     "output_type": "execute_result"
    }
   ],
   "source": [
    "data.head(5)"
   ]
  },
  {
   "cell_type": "markdown",
   "metadata": {},
   "source": [
    "# Checking for Null Values"
   ]
  },
  {
   "cell_type": "code",
   "execution_count": 9,
   "metadata": {},
   "outputs": [
    {
     "data": {
      "text/plain": [
       "<AxesSubplot:ylabel='EmpNumber'>"
      ]
     },
     "execution_count": 9,
     "metadata": {},
     "output_type": "execute_result"
    },
    {
     "data": {
      "image/png": "[encoded data removed]",
      "text/plain": [
       "<Figure size 432x288 with 2 Axes>"
      ]
     },
     "metadata": {
      "needs_background": "light"
     },
     "output_type": "display_data"
    }
   ],
   "source": [
    "sns.heatmap(data.isnull())"
   ]
  },
  {
   "cell_type": "markdown",
   "metadata": {},
   "source": [
    "We can observe from the above heatmap that there are no null or missing values"
   ]
  },
  {
   "cell_type": "markdown",
   "metadata": {},
   "source": [
    "\n",
    "\n",
    "\n",
    "# Checking for different data types"
   ]
  },
  {
   "cell_type": "code",
   "execution_count": 10,
   "metadata": {},
   "outputs": [
    {
     "name": "stdout",
     "output_type": "stream",
     "text": [
      "<class 'pandas.core.frame.DataFrame'>\n",
      "Index: 1200 entries, E1001000 to E100998\n",
      "Data columns (total 27 columns):\n",
      " #   Column                        Non-Null Count  Dtype \n",
      "---  ------                        --------------  ----- \n",
      " 0   Age                           1200 non-null   int64 \n",
      " 1   Gender                        1200 non-null   object\n",
      " 2   EducationBackground           1200 non-null   object\n",
      " 3   MaritalStatus                 1200 non-null   object\n",
      " 4   EmpDepartment                 1200 non-null   object\n",
      " 5   EmpJobRole                    1200 non-null   object\n",
      " 6   BusinessTravelFrequency       1200 non-null   object\n",
      " 7   DistanceFromHome              1200 non-null   int64 \n",
      " 8   EmpEducationLevel             1200 non-null   int64 \n",
      " 9   EmpEnvironmentSatisfaction    1200 non-null   int64 \n",
      " 10  EmpHourlyRate                 1200 non-null   int64 \n",
      " 11  EmpJobInvolvement             1200 non-null   int64 \n",
      " 12  EmpJobLevel                   1200 non-null   int64 \n",
      " 13  EmpJobSatisfaction            1200 non-null   int64 \n",
      " 14  NumCompaniesWorked            1200 non-null   int64 \n",
      " 15  OverTime                      1200 non-null   object\n",
      " 16  EmpLastSalaryHikePercent      1200 non-null   int64 \n",
      " 17  EmpRelationshipSatisfaction   1200 non-null   int64 \n",
      " 18  TotalWorkExperienceInYears    1200 non-null   int64 \n",
      " 19  TrainingTimesLastYear         1200 non-null   int64 \n",
      " 20  EmpWorkLifeBalance            1200 non-null   int64 \n",
      " 21  ExperienceYearsAtThisCompany  1200 non-null   int64 \n",
      " 22  ExperienceYearsInCurrentRole  1200 non-null   int64 \n",
      " 23  YearsSinceLastPromotion       1200 non-null   int64 \n",
      " 24  YearsWithCurrManager          1200 non-null   int64 \n",
      " 25  Attrition                     1200 non-null   object\n",
      " 26  PerformanceRating             1200 non-null   int64 \n",
      "dtypes: int64(19), object(8)\n",
      "memory usage: 262.5+ KB\n"
     ]
    }
   ],
   "source": [
    "data.info()"
   ]
  },
  {
   "cell_type": "markdown",
   "metadata": {},
   "source": [
    "# EDA"
   ]
  },
  {
   "cell_type": "markdown",
   "metadata": {},
   "source": [
    "## Investigating the distribution of Performace Rating"
   ]
  },
  {
   "cell_type": "code",
   "execution_count": 11,
   "metadata": {},
   "outputs": [
    {
     "data": {
      "image/png": "[encoded data removed]",
      "text/plain": [
       "<Figure size 720x720 with 1 Axes>"
      ]
     },
     "metadata": {},
     "output_type": "display_data"
    }
   ],
   "source": [
    "plt.figure(figsize=(10,10))\n",
    "plt.pie(data.PerformanceRating.value_counts(),labels=data.PerformanceRating.unique(),autopct='%1.2f%%')\n",
    "plt.show()"
   ]
  },
  {
   "cell_type": "markdown",
   "metadata": {},
   "source": [
    "## Univariate Analysis"
   ]
  },
  {
   "cell_type": "code",
   "execution_count": 12,
   "metadata": {},
   "outputs": [],
   "source": [
    "#Performing univariate analysis on EmpEnvironmentSatisfaction as it has the highest correlation with Employee Performance"
   ]
  },
  {
   "cell_type": "code",
   "execution_count": 13,
   "metadata": {},
   "outputs": [],
   "source": [
    "data_goodper = data.loc[data['PerformanceRating']==2]\n",
    "data_excellper = data.loc[data['PerformanceRating']==3]\n",
    "data_outstanper = data.loc[data['PerformanceRating']==4]"
   ]
  },
  {
   "cell_type": "code",
   "execution_count": 14,
   "metadata": {},
   "outputs": [
    {
     "data": {
      "image/png": "[encoded data removed]",
      "text/plain": [
       "<Figure size 432x288 with 1 Axes>"
      ]
     },
     "metadata": {
      "needs_background": "light"
     },
     "output_type": "display_data"
    }
   ],
   "source": [
    "plt.plot(data_goodper['EmpEnvironmentSatisfaction'],np.zeros_like(data_goodper['EmpEnvironmentSatisfaction']))\n",
    "plt.plot(data_excellper['EmpEnvironmentSatisfaction'],np.zeros_like(data_excellper['EmpEnvironmentSatisfaction']))\n",
    "plt.plot(data_outstanper['EmpEnvironmentSatisfaction'],np.zeros_like(data_outstanper['EmpEnvironmentSatisfaction']))\n",
    "plt.show()"
   ]
  },
  {
   "cell_type": "markdown",
   "metadata": {},
   "source": [
    "## We can clearly see that the points are not linearly seperable as there is no clear distinction between them"
   ]
  },
  {
   "cell_type": "markdown",
   "metadata": {},
   "source": [
    "We can rule out using Logistic Regression as the points do not seem to be linearly seperable"
   ]
  },
  {
   "cell_type": "markdown",
   "metadata": {},
   "source": [
    "## Bivariate Analysis"
   ]
  },
  {
   "cell_type": "code",
   "execution_count": 15,
   "metadata": {},
   "outputs": [
    {
     "data": {
      "text/plain": [
       "<seaborn.axisgrid.FacetGrid at 0x19c55cb3f48>"
      ]
     },
     "execution_count": 15,
     "metadata": {},
     "output_type": "execute_result"
    },
    {
     "data": {
      "image/png": "[encoded data removed]",
      "text/plain": [
       "<Figure size 535.5x432 with 1 Axes>"
      ]
     },
     "metadata": {
      "needs_background": "light"
     },
     "output_type": "display_data"
    }
   ],
   "source": [
    "sns.FacetGrid(data,hue='PerformanceRating',height=6).map(plt.scatter,'EmpEnvironmentSatisfaction','EmpLastSalaryHikePercent').add_legend()"
   ]
  },
  {
   "cell_type": "markdown",
   "metadata": {},
   "source": [
    "We can clearly see that even though the points are seperable,there is no clear distinction between performance rating"
   ]
  },
  {
   "cell_type": "markdown",
   "metadata": {},
   "source": [
    "# DATA PRE-PROCESSING"
   ]
  },
  {
   "cell_type": "code",
   "execution_count": 16,
   "metadata": {},
   "outputs": [],
   "source": [
    "# Encoding all the ordinal columns and creating a dummy variable for them to see if there are any effects on Performance Rating\n",
    "df = data.copy()\n",
    "for i in [1,2,3,4,5,6,15,24]:\n",
    "    df.iloc[:,i] = enc.fit_transform(df.iloc[:,i])"
   ]
  },
  {
   "cell_type": "markdown",
   "metadata": {},
   "source": [
    "# Top Factors Affecting Employee Perfromance Rating"
   ]
  },
  {
   "cell_type": "markdown",
   "metadata": {},
   "source": [
    "In Order to get the Top 3 Factors the follwing methods have been used to determine the Factors\n",
    "1. Correlation Matrix\n",
    "2. Univariate Selection\n",
    "3. Feature Importance"
   ]
  },
  {
   "cell_type": "markdown",
   "metadata": {},
   "source": [
    "### Correlation Matrix"
   ]
  },
  {
   "cell_type": "code",
   "execution_count": 17,
   "metadata": {},
   "outputs": [
    {
     "data": {
      "text/plain": [
       "PerformanceRating               1.000000\n",
       "EmpEnvironmentSatisfaction      0.395561\n",
       "EmpLastSalaryHikePercent        0.333722\n",
       "EmpWorkLifeBalance              0.124429\n",
       "OverTime                        0.050206\n",
       "MaritalStatus                   0.024172\n",
       "NumCompaniesWorked              0.020980\n",
       "EmpEducationLevel               0.020529\n",
       "EducationBackground             0.005607\n",
       "EmpJobSatisfaction              0.000606\n",
       "Gender                         -0.001780\n",
       "TrainingTimesLastYear          -0.005443\n",
       "EmpJobInvolvement              -0.010539\n",
       "EmpRelationshipSatisfaction    -0.019502\n",
       "BusinessTravelFrequency        -0.031025\n",
       "Age                            -0.040164\n",
       "EmpHourlyRate                  -0.043116\n",
       "DistanceFromHome               -0.046142\n",
       "TotalWorkExperienceInYears     -0.068141\n",
       "EmpJobLevel                    -0.076632\n",
       "EmpJobRole                     -0.096209\n",
       "ExperienceYearsAtThisCompany   -0.111645\n",
       "YearsWithCurrManager           -0.122313\n",
       "ExperienceYearsInCurrentRole   -0.147638\n",
       "EmpDepartment                  -0.162615\n",
       "YearsSinceLastPromotion        -0.167629\n",
       "dtype: float64"
      ]
     },
     "execution_count": 17,
     "metadata": {},
     "output_type": "execute_result"
    }
   ],
   "source": [
    "df.corrwith(df.PerformanceRating).sort_values(ascending=False)"
   ]
  },
  {
   "cell_type": "markdown",
   "metadata": {},
   "source": [
    "### Univariate Selection\n"
   ]
  },
  {
   "cell_type": "code",
   "execution_count": 18,
   "metadata": {},
   "outputs": [],
   "source": [
    "X = df.iloc[:,0:25]  #independent columns\n",
    "y = df.iloc[:,26]    #target column i.e Performance Rating"
   ]
  },
  {
   "cell_type": "code",
   "execution_count": 19,
   "metadata": {},
   "outputs": [],
   "source": [
    "#selecting best features\n",
    "bestfeatures = SelectKBest(score_func=chi2, k=10)\n",
    "\n",
    "fit = bestfeatures.fit(X,y)"
   ]
  },
  {
   "cell_type": "code",
   "execution_count": 20,
   "metadata": {},
   "outputs": [],
   "source": [
    "#Storing the Obtained values in dataframes for visualization\n",
    "dfscores = pd.DataFrame(fit.scores_)\n",
    "dfcolumns = pd.DataFrame(X.columns)"
   ]
  },
  {
   "cell_type": "code",
   "execution_count": 21,
   "metadata": {},
   "outputs": [],
   "source": [
    "#concat two dataframes for better visualization \n",
    "featureScores = pd.concat([dfcolumns,dfscores],axis=1)\n",
    "featureScores.columns = ['Feature','Score']  #naming the dataframe columns"
   ]
  },
  {
   "cell_type": "code",
   "execution_count": 22,
   "metadata": {},
   "outputs": [
    {
     "name": "stdout",
     "output_type": "stream",
     "text": [
      "                         Feature       Score\n",
      "16      EmpLastSalaryHikePercent  297.136917\n",
      "23       YearsSinceLastPromotion  238.004284\n",
      "21  ExperienceYearsAtThisCompany  133.602068\n",
      "22  ExperienceYearsInCurrentRole  120.860036\n",
      "9     EmpEnvironmentSatisfaction  110.691319\n",
      "24          YearsWithCurrManager   87.483471\n",
      "4                  EmpDepartment   46.787010\n",
      "18    TotalWorkExperienceInYears   41.593037\n",
      "5                     EmpJobRole   35.896167\n",
      "7               DistanceFromHome   18.650010\n"
     ]
    }
   ],
   "source": [
    "print(featureScores.nlargest(10,'Score'))  #print 10 best features"
   ]
  },
  {
   "cell_type": "markdown",
   "metadata": {},
   "source": [
    "### Feature Importance"
   ]
  },
  {
   "cell_type": "code",
   "execution_count": 23,
   "metadata": {},
   "outputs": [
    {
     "data": {
      "text/plain": [
       "ExtraTreesClassifier()"
      ]
     },
     "execution_count": 23,
     "metadata": {},
     "output_type": "execute_result"
    }
   ],
   "source": [
    "from sklearn.ensemble import ExtraTreesClassifier\n",
    "import matplotlib.pyplot as plt\n",
    "model = ExtraTreesClassifier()\n",
    "model.fit(X,y)"
   ]
  },
  {
   "cell_type": "code",
   "execution_count": 24,
   "metadata": {},
   "outputs": [
    {
     "name": "stdout",
     "output_type": "stream",
     "text": [
      "[0.02979799 0.01866989 0.02384862 0.02213873 0.04666587 0.03329033\n",
      " 0.02202281 0.02751106 0.02626563 0.16226362 0.03155417 0.02408739\n",
      " 0.02205045 0.02531348 0.02555388 0.01427034 0.15810841 0.02501383\n",
      " 0.02557862 0.02508232 0.03221663 0.03157506 0.03987718 0.07407597\n",
      " 0.03316772]\n"
     ]
    }
   ],
   "source": [
    "print(model.feature_importances_) #use inbuilt class feature_importances of tree based classifiers"
   ]
  },
  {
   "cell_type": "code",
   "execution_count": 25,
   "metadata": {},
   "outputs": [
    {
     "data": {
      "image/png": "[encoded data removed]",
      "text/plain": [
       "<Figure size 432x288 with 1 Axes>"
      ]
     },
     "metadata": {
      "needs_background": "light"
     },
     "output_type": "display_data"
    }
   ],
   "source": [
    "feat_importances = pd.Series(model.feature_importances_, index=X.columns)\n",
    "feat_importances.nlargest(10).plot(kind='barh')\n",
    "plt.show()"
   ]
  },
  {
   "cell_type": "markdown",
   "metadata": {},
   "source": [
    "After Comparing the top 10 feature importance scores from all the Tests, it is observed that the top three factors affecting performance rating are as follows: \n",
    "\n",
    " - EmpEnvironmentSatisfaction"
   ]
  },
  {
   "cell_type": "markdown",
   "metadata": {},
   "source": [
    " - EmpLastSalaryHikePercent "
   ]
  },
  {
   "cell_type": "markdown",
   "metadata": {},
   "source": [
    " - YearsSinceLastPromotion"
   ]
  },
  {
   "cell_type": "markdown",
   "metadata": {},
   "source": [
    "# Department -Wise Performance Rating"
   ]
  },
  {
   "cell_type": "code",
   "execution_count": 26,
   "metadata": {},
   "outputs": [
    {
     "name": "stdout",
     "output_type": "stream",
     "text": [
      "EmpDepartment      Data Science  Development  Finance  Human Resources  \\\n",
      "PerformanceRating                                                        \n",
      "2                             1           13       15               10   \n",
      "3                            17          304       30               38   \n",
      "4                             2           44        4                6   \n",
      "\n",
      "EmpDepartment      Research & Development  Sales  \n",
      "PerformanceRating                                 \n",
      "2                                      68     87  \n",
      "3                                     234    251  \n",
      "4                                      41     35  \n"
     ]
    }
   ],
   "source": [
    "dataset_table = pd.crosstab(data['PerformanceRating'],data['EmpDepartment'])\n",
    "print(dataset_table)"
   ]
  },
  {
   "cell_type": "code",
   "execution_count": 27,
   "metadata": {},
   "outputs": [
    {
     "data": {
      "text/plain": [
       "<AxesSubplot:xlabel='EmpDepartment', ylabel='PerformanceRating'>"
      ]
     },
     "execution_count": 27,
     "metadata": {},
     "output_type": "execute_result"
    },
    {
     "data": {
      "image/png": "[encoded data removed]",
      "text/plain": [
       "<Figure size 720x360 with 1 Axes>"
      ]
     },
     "metadata": {
      "needs_background": "light"
     },
     "output_type": "display_data"
    }
   ],
   "source": [
    "#HighLevel View of Data\n",
    "df.groupby(by='EmpDepartment')['PerformanceRating'].mean()\n",
    "fig = plt.figure(figsize=(10,5))\n",
    "sns.barplot(x='EmpDepartment',y='PerformanceRating',data=data)"
   ]
  },
  {
   "cell_type": "markdown",
   "metadata": {},
   "source": [
    "We cannot conclude with this data as there is variation between true values as the total number of records are not uniform in the data set"
   ]
  },
  {
   "cell_type": "markdown",
   "metadata": {},
   "source": [
    "### In order to understand the true deparment-wise performance, we will need to investigate the breakup of the performances in each department"
   ]
  },
  {
   "cell_type": "code",
   "execution_count": 28,
   "metadata": {},
   "outputs": [
    {
     "data": {
      "text/plain": [
       "<Figure size 1440x1440 with 0 Axes>"
      ]
     },
     "metadata": {},
     "output_type": "display_data"
    },
    {
     "data": {
      "image/png": "[encoded data removed]",
      "text/plain": [
       "<Figure size 432x288 with 6 Axes>"
      ]
     },
     "metadata": {},
     "output_type": "display_data"
    }
   ],
   "source": [
    "fig = plt.figure(figsize=(20,20))\n",
    "fig,ax = plt.subplots(2,3)\n",
    "ax[0,0].pie(dataset_table['Data Science'],autopct='%1.2f%%',labels=[2,3,4])\n",
    "ax[0,0].set_title('Data Science')\n",
    "\n",
    "ax[0,1].pie(dataset_table['Development'],autopct='%1.2f%%',labels=[2,3,4])\n",
    "ax[0,1].set_title('Development')\n",
    "\n",
    "ax[0,2].pie(dataset_table['Finance'],autopct='%1.2f%%',labels=[2,3,4])\n",
    "ax[0,2].set_title('Finance')\n",
    "\n",
    "ax[1,0].pie(dataset_table['Human Resources'],autopct='%1.2f%%',labels=[2,3,4])\n",
    "ax[1,0].set_title('Human Resources')\n",
    "\n",
    "ax[1,1].pie(dataset_table['Research & Development'],autopct='%1.2f%%',labels=[2,3,4])\n",
    "ax[1,1].set_title('R&D')\n",
    "\n",
    "ax[1,2].pie(dataset_table['Sales'],autopct='%1.2f%%',labels=[2,3,4])\n",
    "ax[1,2].set_title('Sales')\n",
    "\n",
    "\n",
    "plt.tight_layout()\n",
    "plt.show()"
   ]
  },
  {
   "cell_type": "markdown",
   "metadata": {},
   "source": [
    "### We can see from the above plot the top performing Departments are:\n",
    "(Ranking  by comparing the Overall Percentage of Excellent and Outstanding Employees in a given Department)\n",
    "\n",
    "1.Development "
   ]
  },
  {
   "cell_type": "markdown",
   "metadata": {},
   "source": [
    "2.Data Science "
   ]
  },
  {
   "cell_type": "markdown",
   "metadata": {},
   "source": [
    "3.Human Resources"
   ]
  },
  {
   "cell_type": "markdown",
   "metadata": {},
   "source": [
    "### Investigating the relationship between Education Background and  Performance Rating"
   ]
  },
  {
   "cell_type": "code",
   "execution_count": 29,
   "metadata": {},
   "outputs": [
    {
     "name": "stdout",
     "output_type": "stream",
     "text": [
      "EducationBackground  Human Resources  Life Sciences  Marketing  Medical  \\\n",
      "PerformanceRating                                                         \n",
      "2                                  3             78         29       63   \n",
      "3                                 16            357         94      281   \n",
      "4                                  2             57         14       40   \n",
      "\n",
      "EducationBackground  Other  Technical Degree  \n",
      "PerformanceRating                             \n",
      "2                        3                18  \n",
      "3                       56                70  \n",
      "4                        7                12  \n"
     ]
    }
   ],
   "source": [
    "#Segregating the Perfomance Categories with respect to Education Background\n",
    "dataset_table2 = pd.crosstab(data['PerformanceRating'],data['EducationBackground'])\n",
    "print(dataset_table2)"
   ]
  },
  {
   "cell_type": "code",
   "execution_count": 30,
   "metadata": {},
   "outputs": [
    {
     "data": {
      "text/plain": [
       "<Figure size 1440x1440 with 0 Axes>"
      ]
     },
     "metadata": {},
     "output_type": "display_data"
    },
    {
     "data": {
      "image/png": "[encoded data removed]",
      "text/plain": [
       "<Figure size 432x288 with 6 Axes>"
      ]
     },
     "metadata": {},
     "output_type": "display_data"
    }
   ],
   "source": [
    "#Plotting the relationship\n",
    "fig = plt.figure(figsize=(20,20))\n",
    "fig,ax = plt.subplots(2,3)\n",
    "ax[0,0].pie(dataset_table2['Human Resources'],autopct='%1.2f%%',labels=[2,3,4])\n",
    "ax[0,0].set_title('Human Resources')\n",
    "\n",
    "ax[0,1].pie(dataset_table2['Life Sciences'],autopct='%1.2f%%',labels=[2,3,4])\n",
    "ax[0,1].set_title('Life Sciences')\n",
    "\n",
    "ax[0,2].pie(dataset_table2['Marketing'],autopct='%1.2f%%',labels=[2,3,4])\n",
    "ax[0,2].set_title('Marketing')\n",
    "\n",
    "ax[1,0].pie(dataset_table2['Medical'],autopct='%1.2f%%',labels=[2,3,4])\n",
    "ax[1,0].set_title('Medical')\n",
    "\n",
    "ax[1,1].pie(dataset_table2['Other'],autopct='%1.2f%%',labels=[2,3,4])\n",
    "ax[1,1].set_title('Other')\n",
    "\n",
    "ax[1,2].pie(dataset_table2['Technical Degree'],autopct='%1.2f%%',labels=[2,3,4])\n",
    "ax[1,2].set_title('Technical Degree')\n",
    "\n",
    "\n",
    "plt.tight_layout()\n",
    "plt.show()"
   ]
  },
  {
   "cell_type": "markdown",
   "metadata": {},
   "source": [
    "Observation: The Candidates with a Marketing Background underperform when compared to other Educational Backgrounds."
   ]
  },
  {
   "cell_type": "markdown",
   "metadata": {},
   "source": [
    "### Investigating the relationship between Employee Performance and Years Since Last Promotion"
   ]
  },
  {
   "cell_type": "code",
   "execution_count": 32,
   "metadata": {},
   "outputs": [
    {
     "name": "stdout",
     "output_type": "stream",
     "text": [
      "Mean Years since last promotion for employees with a Performance Score of 2: 3.695876288659794\n",
      "Mean Years since last promotion for employees with a Performance Score of 3: 1.9118993135011442\n",
      "Mean Years since last promotion for employees with a Performance Score of 4: 1.856060606060606\n"
     ]
    },
    {
     "data": {
      "image/png": "[encoded data removed]",
      "text/plain": [
       "<Figure size 432x288 with 1 Axes>"
      ]
     },
     "metadata": {
      "needs_background": "light"
     },
     "output_type": "display_data"
    }
   ],
   "source": [
    "sns.boxplot(x='PerformanceRating',y='YearsSinceLastPromotion',data=data)\n",
    "print('Mean Years since last promotion for employees with a Performance Score of 2:',data_goodper['YearsSinceLastPromotion'].mean())\n",
    "print('Mean Years since last promotion for employees with a Performance Score of 3:',data_excellper['YearsSinceLastPromotion'].mean())\n",
    "print('Mean Years since last promotion for employees with a Performance Score of 4:',data_outstanper['YearsSinceLastPromotion'].mean())"
   ]
  },
  {
   "cell_type": "markdown",
   "metadata": {},
   "source": [
    "Ovservation: Promoting an employee every 2 years seems to boost employee performance"
   ]
  },
  {
   "cell_type": "markdown",
   "metadata": {},
   "source": [
    "### Investigating the relationship between employee experience in current role and performance"
   ]
  },
  {
   "cell_type": "code",
   "execution_count": 544,
   "metadata": {},
   "outputs": [
    {
     "name": "stdout",
     "output_type": "stream",
     "text": [
      "Mean of Experience in current role with a Performance Score of 2: 5.788659793814433\n",
      "Mean of Experience in current role with a Performance Score of 3: 4.006864988558353\n",
      "Mean of Experience in current role with a Performance Score of 4: 3.977272727272727\n"
     ]
    },
    {
     "data": {
      "text/plain": [
       "<Figure size 1200x1200 with 0 Axes>"
      ]
     },
     "metadata": {},
     "output_type": "display_data"
    },
    {
     "data": {
      "image/png": "[encoded data removed]",
      "text/plain": [
       "<Figure size 900x300 with 3 Axes>"
      ]
     },
     "metadata": {},
     "output_type": "display_data"
    }
   ],
   "source": [
    "plt.figure(figsize=(12,12))\n",
    "\n",
    "sns.set_style(\"darkgrid\")\n",
    "\n",
    "g=sns.FacetGrid(data,col=\"PerformanceRating\")\n",
    "g.map(sns.distplot,\"ExperienceYearsInCurrentRole\")\n",
    "\n",
    "print('Mean of Experience in current role with a Performance Score of 2:',data_goodper['ExperienceYearsInCurrentRole'].mean())\n",
    "print('Mean of Experience in current role with a Performance Score of 3:',data_excellper['ExperienceYearsInCurrentRole'].mean())\n",
    "print('Mean of Experience in current role with a Performance Score of 4:',data_outstanper['ExperienceYearsInCurrentRole'].mean())\n"
   ]
  },
  {
   "cell_type": "markdown",
   "metadata": {},
   "source": [
    "Observation:It is observed that candidates with over 5 years of experience in their current roles underperformed when compared to candidates with less than 5 years of experience"
   ]
  },
  {
   "cell_type": "markdown",
   "metadata": {},
   "source": [
    "# Splitting the data "
   ]
  },
  {
   "cell_type": "code",
   "execution_count": 357,
   "metadata": {},
   "outputs": [],
   "source": [
    "from sklearn.model_selection import train_test_split\n",
    "from sklearn.decomposition import PCA\n",
    "pca = PCA(n_components=5)"
   ]
  },
  {
   "cell_type": "code",
   "execution_count": 358,
   "metadata": {},
   "outputs": [],
   "source": [
    "\n",
    "X = df.iloc[:,[16,23,21,22,9,24,4,18,5,7]] #taking the top 10 features that have the most impact on the target variable\n",
    "y = df.iloc[:,26]"
   ]
  },
  {
   "cell_type": "code",
   "execution_count": 560,
   "metadata": {},
   "outputs": [],
   "source": [
    "x_train,x_test,y_train,y_test = train_test_split(X,y,test_size=0.3,random_state=101)"
   ]
  },
  {
   "cell_type": "code",
   "execution_count": 561,
   "metadata": {},
   "outputs": [
    {
     "data": {
      "text/plain": [
       "PCA(n_components=5)"
      ]
     },
     "execution_count": 561,
     "metadata": {},
     "output_type": "execute_result"
    }
   ],
   "source": [
    "#Standardizing the input variables as the units vary from feature to feature\n",
    "sc = StandardScaler()\n",
    "x_train = sc.fit_transform(x_train)\n",
    "x_test = sc.transform(x_test)\n",
    "x_train.shape\n",
    "#pca.fit(x_train)\n",
    "#pca.fit(x_test)"
   ]
  },
  {
   "cell_type": "code",
   "execution_count": 562,
   "metadata": {},
   "outputs": [],
   "source": [
    "#x1_train = pca.transform(x_train)\n",
    "#x1_test = pca.transform(x_test)"
   ]
  },
  {
   "cell_type": "markdown",
   "metadata": {},
   "source": [
    "# Models"
   ]
  },
  {
   "cell_type": "markdown",
   "metadata": {},
   "source": [
    "\n",
    "As the target variable is to predict employee performance which falls under discrete data type. Based on this non-linearly seperable  data, it was observed that Random Forest with GridSearchCV gives the maximum accuracy of 93.8% which was used to develop the model.\n",
    "In the sections below, classification alogrithms were chosen to train the model, and specifically classification alogrithms which are able to classify non-linearly seperable data such as - Random Forest,Support Vector Machines, XGBoost Classifier and Artificial Neural Networks were used in order to develop a model that was  able to predict employee performance based on the input variables, it was observed that Random Forest with GridSearchCV gives the maximum accuracy of 93.8%. Therefore Random Forest with GridSearchCV can be chosen to fit the bussiness case.\n",
    "\n",
    "Note: PCA was also used in training the model which led to lower accuracy than the factors chosen by feature selection techniques and hence was not implemented in the model.\n"
   ]
  },
  {
   "cell_type": "markdown",
   "metadata": {},
   "source": [
    "# 1. Random Forest Classifier"
   ]
  },
  {
   "cell_type": "code",
   "execution_count": 584,
   "metadata": {},
   "outputs": [],
   "source": [
    "from sklearn.ensemble import RandomForestClassifier\n",
    "model = RandomForestClassifier()\n",
    "model1 = RandomForestClassifier()"
   ]
  },
  {
   "cell_type": "code",
   "execution_count": 585,
   "metadata": {},
   "outputs": [
    {
     "data": {
      "text/plain": [
       "RandomForestClassifier()"
      ]
     },
     "execution_count": 585,
     "metadata": {},
     "output_type": "execute_result"
    }
   ],
   "source": [
    "#Training the model\n",
    "model.fit(x_train,y_train)\n",
    "#Training the model with PCA components\n",
    "#model1.fit(x1_train,y_train)"
   ]
  },
  {
   "cell_type": "code",
   "execution_count": 586,
   "metadata": {},
   "outputs": [],
   "source": [
    "#Predicting the model\n",
    "predictions =model.predict(x_test)\n",
    "#predictions_pca = model1.predict(x1_test)"
   ]
  },
  {
   "cell_type": "code",
   "execution_count": 587,
   "metadata": {},
   "outputs": [
    {
     "name": "stdout",
     "output_type": "stream",
     "text": [
      "              precision    recall  f1-score   support\n",
      "\n",
      "           2       0.88      0.85      0.86        52\n",
      "           3       0.95      0.97      0.96       276\n",
      "           4       0.93      0.78      0.85        32\n",
      "\n",
      "    accuracy                           0.94       360\n",
      "   macro avg       0.92      0.87      0.89       360\n",
      "weighted avg       0.94      0.94      0.94       360\n",
      "\n",
      "\n",
      "\n",
      "0.9388888888888889\n"
     ]
    }
   ],
   "source": [
    "#Finding accuracy, classification report\n",
    "print(classification_report(y_test,predictions))\n",
    "print('\\n')\n",
    "print(accuracy_score(y_test,predictions))"
   ]
  },
  {
   "cell_type": "code",
   "execution_count": 572,
   "metadata": {},
   "outputs": [],
   "source": [
    "#Finding accuracy, classification report with PCA\n",
    "#print(classification_report(y_test,predictions_pca))\n",
    "#print('\\n')\n",
    "#print(accuracy_score(y_test,predictions_pca))"
   ]
  },
  {
   "cell_type": "markdown",
   "metadata": {},
   "source": [
    "Using PCA it is observed that the model accuracy  was reduced  by ~10%,therefore the original set of factors that were derived by feature selection techniques were chosen."
   ]
  },
  {
   "cell_type": "markdown",
   "metadata": {},
   "source": [
    "# Tuning Hyper Parameters using GridSearch"
   ]
  },
  {
   "cell_type": "code",
   "execution_count": 588,
   "metadata": {},
   "outputs": [],
   "source": [
    "from sklearn.model_selection import GridSearchCV"
   ]
  },
  {
   "cell_type": "code",
   "execution_count": 589,
   "metadata": {},
   "outputs": [],
   "source": [
    "#finding Best parameters using grid search\n",
    "param_grid={'n_estimators':[100,200,300,400],'criterion' :[\"gini\"]}\n",
    "grid = GridSearchCV(RandomForestClassifier(),param_grid,verbose=3)\n"
   ]
  },
  {
   "cell_type": "code",
   "execution_count": 591,
   "metadata": {},
   "outputs": [
    {
     "name": "stdout",
     "output_type": "stream",
     "text": [
      "Fitting 5 folds for each of 4 candidates, totalling 20 fits\n",
      "[CV 1/5] END ..criterion=gini, n_estimators=100;, score=0.940 total time=   0.6s\n",
      "[CV 2/5] END ..criterion=gini, n_estimators=100;, score=0.929 total time=   0.3s\n",
      "[CV 3/5] END ..criterion=gini, n_estimators=100;, score=0.946 total time=   0.3s\n",
      "[CV 4/5] END ..criterion=gini, n_estimators=100;, score=0.911 total time=   0.3s\n",
      "[CV 5/5] END ..criterion=gini, n_estimators=100;, score=0.917 total time=   0.3s\n",
      "[CV 1/5] END ..criterion=gini, n_estimators=200;, score=0.940 total time=   0.7s\n",
      "[CV 2/5] END ..criterion=gini, n_estimators=200;, score=0.929 total time=   0.8s\n",
      "[CV 3/5] END ..criterion=gini, n_estimators=200;, score=0.940 total time=   0.7s\n",
      "[CV 4/5] END ..criterion=gini, n_estimators=200;, score=0.905 total time=   0.7s\n",
      "[CV 5/5] END ..criterion=gini, n_estimators=200;, score=0.929 total time=   0.7s\n",
      "[CV 1/5] END ..criterion=gini, n_estimators=300;, score=0.946 total time=   1.1s\n",
      "[CV 2/5] END ..criterion=gini, n_estimators=300;, score=0.935 total time=   1.1s\n",
      "[CV 3/5] END ..criterion=gini, n_estimators=300;, score=0.940 total time=   1.3s\n",
      "[CV 4/5] END ..criterion=gini, n_estimators=300;, score=0.911 total time=   1.2s\n",
      "[CV 5/5] END ..criterion=gini, n_estimators=300;, score=0.935 total time=   1.1s\n",
      "[CV 1/5] END ..criterion=gini, n_estimators=400;, score=0.946 total time=   1.7s\n",
      "[CV 2/5] END ..criterion=gini, n_estimators=400;, score=0.935 total time=   1.5s\n",
      "[CV 3/5] END ..criterion=gini, n_estimators=400;, score=0.946 total time=   1.5s\n",
      "[CV 4/5] END ..criterion=gini, n_estimators=400;, score=0.905 total time=   1.5s\n",
      "[CV 5/5] END ..criterion=gini, n_estimators=400;, score=0.929 total time=   1.9s\n"
     ]
    },
    {
     "data": {
      "text/plain": [
       "GridSearchCV(estimator=RandomForestClassifier(),\n",
       "             param_grid={'criterion': ['gini'],\n",
       "                         'n_estimators': [100, 200, 300, 400]},\n",
       "             verbose=3)"
      ]
     },
     "execution_count": 591,
     "metadata": {},
     "output_type": "execute_result"
    }
   ],
   "source": [
    "#Training the model\n",
    "grid.fit(x_train,y_train)"
   ]
  },
  {
   "cell_type": "code",
   "execution_count": 596,
   "metadata": {},
   "outputs": [
    {
     "data": {
      "text/plain": [
       "{'criterion': 'gini', 'n_estimators': 300}"
      ]
     },
     "execution_count": 596,
     "metadata": {},
     "output_type": "execute_result"
    }
   ],
   "source": [
    "grid.best_params_"
   ]
  },
  {
   "cell_type": "code",
   "execution_count": 597,
   "metadata": {},
   "outputs": [],
   "source": [
    "#predicting the model\n",
    "predictions = grid.predict(x_test)"
   ]
  },
  {
   "cell_type": "code",
   "execution_count": 598,
   "metadata": {},
   "outputs": [
    {
     "name": "stdout",
     "output_type": "stream",
     "text": [
      "              precision    recall  f1-score   support\n",
      "\n",
      "           2       0.88      0.85      0.86        52\n",
      "           3       0.95      0.97      0.96       276\n",
      "           4       0.93      0.78      0.85        32\n",
      "\n",
      "    accuracy                           0.94       360\n",
      "   macro avg       0.92      0.87      0.89       360\n",
      "weighted avg       0.94      0.94      0.94       360\n",
      "\n",
      "\n",
      "\n",
      "Accuracy Score 0.9388888888888889\n"
     ]
    }
   ],
   "source": [
    "print(classification_report(y_test,predictions))\n",
    "print('\\n')\n",
    "print('Accuracy Score',accuracy_score(y_test,predictions))"
   ]
  },
  {
   "cell_type": "markdown",
   "metadata": {},
   "source": [
    "# 2. Support Vector Machines"
   ]
  },
  {
   "cell_type": "code",
   "execution_count": 325,
   "metadata": {},
   "outputs": [],
   "source": [
    "# Training the model\n",
    "from sklearn.svm import SVC\n",
    "rbf_svc = SVC(kernel='rbf', C=10,gamma=0.1).fit(x_train,y_train)"
   ]
  },
  {
   "cell_type": "code",
   "execution_count": 326,
   "metadata": {},
   "outputs": [],
   "source": [
    "# Predicting the model\n",
    "predictions_svm = rbf_svc.predict(x_test)"
   ]
  },
  {
   "cell_type": "code",
   "execution_count": 327,
   "metadata": {},
   "outputs": [
    {
     "name": "stdout",
     "output_type": "stream",
     "text": [
      "              precision    recall  f1-score   support\n",
      "\n",
      "           2       0.77      0.79      0.78        42\n",
      "           3       0.90      0.94      0.92       221\n",
      "           4       0.89      0.65      0.75        37\n",
      "\n",
      "    accuracy                           0.88       300\n",
      "   macro avg       0.85      0.79      0.82       300\n",
      "weighted avg       0.88      0.88      0.88       300\n",
      "\n",
      "\n",
      "\n",
      "Accuracy Score 0.8833333333333333\n"
     ]
    }
   ],
   "source": [
    "# Finding accuracy, precision, recall and confusion matrix\n",
    "print(classification_report(y_test,predictions_svm))\n",
    "print('\\n')\n",
    "print('Accuracy Score',accuracy_score(y_test,predictions_svm))"
   ]
  },
  {
   "cell_type": "markdown",
   "metadata": {},
   "source": [
    "Accuracy score improved by 5% after Grid Search"
   ]
  },
  {
   "cell_type": "markdown",
   "metadata": {},
   "source": [
    "# Support Vector Machines with GridSearch CV"
   ]
  },
  {
   "cell_type": "code",
   "execution_count": 319,
   "metadata": {},
   "outputs": [],
   "source": [
    "param_grid_svm={'kernel':['rbf'],'C':[0.1,1,10],'gamma':[0.0001,0.001,0.01,0.1,1]}\n",
    "grid_svm = GridSearchCV(SVC(),param_grid,verbose=3)"
   ]
  },
  {
   "cell_type": "code",
   "execution_count": 320,
   "metadata": {},
   "outputs": [
    {
     "name": "stdout",
     "output_type": "stream",
     "text": [
      "Fitting 5 folds for each of 15 candidates, totalling 75 fits\n",
      "[CV 1/5] END ...C=0.1, gamma=0.0001, kernel=rbf;, score=0.728 total time=   0.0s\n",
      "[CV 2/5] END ...C=0.1, gamma=0.0001, kernel=rbf;, score=0.728 total time=   0.0s\n",
      "[CV 3/5] END ...C=0.1, gamma=0.0001, kernel=rbf;, score=0.728 total time=   0.0s\n",
      "[CV 4/5] END ...C=0.1, gamma=0.0001, kernel=rbf;, score=0.722 total time=   0.0s\n",
      "[CV 5/5] END ...C=0.1, gamma=0.0001, kernel=rbf;, score=0.722 total time=   0.0s\n",
      "[CV 1/5] END ....C=0.1, gamma=0.001, kernel=rbf;, score=0.728 total time=   0.0s\n",
      "[CV 2/5] END ....C=0.1, gamma=0.001, kernel=rbf;, score=0.728 total time=   0.0s\n",
      "[CV 3/5] END ....C=0.1, gamma=0.001, kernel=rbf;, score=0.728 total time=   0.0s\n",
      "[CV 4/5] END ....C=0.1, gamma=0.001, kernel=rbf;, score=0.722 total time=   0.0s\n",
      "[CV 5/5] END ....C=0.1, gamma=0.001, kernel=rbf;, score=0.722 total time=   0.0s\n",
      "[CV 1/5] END .....C=0.1, gamma=0.01, kernel=rbf;, score=0.728 total time=   0.0s\n",
      "[CV 2/5] END .....C=0.1, gamma=0.01, kernel=rbf;, score=0.728 total time=   0.0s\n",
      "[CV 3/5] END .....C=0.1, gamma=0.01, kernel=rbf;, score=0.728 total time=   0.0s\n",
      "[CV 4/5] END .....C=0.1, gamma=0.01, kernel=rbf;, score=0.722 total time=   0.0s\n",
      "[CV 5/5] END .....C=0.1, gamma=0.01, kernel=rbf;, score=0.722 total time=   0.0s\n",
      "[CV 1/5] END ......C=0.1, gamma=0.1, kernel=rbf;, score=0.728 total time=   0.0s\n",
      "[CV 2/5] END ......C=0.1, gamma=0.1, kernel=rbf;, score=0.728 total time=   0.0s\n",
      "[CV 3/5] END ......C=0.1, gamma=0.1, kernel=rbf;, score=0.728 total time=   0.0s\n",
      "[CV 4/5] END ......C=0.1, gamma=0.1, kernel=rbf;, score=0.722 total time=   0.0s\n",
      "[CV 5/5] END ......C=0.1, gamma=0.1, kernel=rbf;, score=0.722 total time=   0.0s\n",
      "[CV 1/5] END ........C=0.1, gamma=1, kernel=rbf;, score=0.728 total time=   0.0s\n",
      "[CV 2/5] END ........C=0.1, gamma=1, kernel=rbf;, score=0.728 total time=   0.0s\n",
      "[CV 3/5] END ........C=0.1, gamma=1, kernel=rbf;, score=0.728 total time=   0.0s\n",
      "[CV 4/5] END ........C=0.1, gamma=1, kernel=rbf;, score=0.722 total time=   0.0s\n",
      "[CV 5/5] END ........C=0.1, gamma=1, kernel=rbf;, score=0.722 total time=   0.0s\n",
      "[CV 1/5] END .....C=1, gamma=0.0001, kernel=rbf;, score=0.728 total time=   0.0s\n",
      "[CV 2/5] END .....C=1, gamma=0.0001, kernel=rbf;, score=0.728 total time=   0.0s\n",
      "[CV 3/5] END .....C=1, gamma=0.0001, kernel=rbf;, score=0.728 total time=   0.0s\n",
      "[CV 4/5] END .....C=1, gamma=0.0001, kernel=rbf;, score=0.722 total time=   0.0s\n",
      "[CV 5/5] END .....C=1, gamma=0.0001, kernel=rbf;, score=0.722 total time=   0.0s\n",
      "[CV 1/5] END ......C=1, gamma=0.001, kernel=rbf;, score=0.728 total time=   0.0s\n",
      "[CV 2/5] END ......C=1, gamma=0.001, kernel=rbf;, score=0.728 total time=   0.0s\n",
      "[CV 3/5] END ......C=1, gamma=0.001, kernel=rbf;, score=0.728 total time=   0.0s\n",
      "[CV 4/5] END ......C=1, gamma=0.001, kernel=rbf;, score=0.722 total time=   0.0s\n",
      "[CV 5/5] END ......C=1, gamma=0.001, kernel=rbf;, score=0.722 total time=   0.0s\n",
      "[CV 1/5] END .......C=1, gamma=0.01, kernel=rbf;, score=0.733 total time=   0.0s\n",
      "[CV 2/5] END .......C=1, gamma=0.01, kernel=rbf;, score=0.756 total time=   0.0s\n",
      "[CV 3/5] END .......C=1, gamma=0.01, kernel=rbf;, score=0.744 total time=   0.0s\n",
      "[CV 4/5] END .......C=1, gamma=0.01, kernel=rbf;, score=0.739 total time=   0.0s\n",
      "[CV 5/5] END .......C=1, gamma=0.01, kernel=rbf;, score=0.739 total time=   0.0s\n",
      "[CV 1/5] END ........C=1, gamma=0.1, kernel=rbf;, score=0.844 total time=   0.0s\n",
      "[CV 2/5] END ........C=1, gamma=0.1, kernel=rbf;, score=0.833 total time=   0.0s\n",
      "[CV 3/5] END ........C=1, gamma=0.1, kernel=rbf;, score=0.839 total time=   0.0s\n",
      "[CV 4/5] END ........C=1, gamma=0.1, kernel=rbf;, score=0.811 total time=   0.0s\n",
      "[CV 5/5] END ........C=1, gamma=0.1, kernel=rbf;, score=0.828 total time=   0.0s\n",
      "[CV 1/5] END ..........C=1, gamma=1, kernel=rbf;, score=0.756 total time=   0.0s\n",
      "[CV 2/5] END ..........C=1, gamma=1, kernel=rbf;, score=0.756 total time=   0.0s\n",
      "[CV 3/5] END ..........C=1, gamma=1, kernel=rbf;, score=0.744 total time=   0.0s\n",
      "[CV 4/5] END ..........C=1, gamma=1, kernel=rbf;, score=0.761 total time=   0.0s\n",
      "[CV 5/5] END ..........C=1, gamma=1, kernel=rbf;, score=0.767 total time=   0.0s\n",
      "[CV 1/5] END ....C=10, gamma=0.0001, kernel=rbf;, score=0.728 total time=   0.0s\n",
      "[CV 2/5] END ....C=10, gamma=0.0001, kernel=rbf;, score=0.728 total time=   0.0s\n",
      "[CV 3/5] END ....C=10, gamma=0.0001, kernel=rbf;, score=0.728 total time=   0.0s\n",
      "[CV 4/5] END ....C=10, gamma=0.0001, kernel=rbf;, score=0.722 total time=   0.0s\n",
      "[CV 5/5] END ....C=10, gamma=0.0001, kernel=rbf;, score=0.722 total time=   0.0s\n",
      "[CV 1/5] END .....C=10, gamma=0.001, kernel=rbf;, score=0.728 total time=   0.0s\n",
      "[CV 2/5] END .....C=10, gamma=0.001, kernel=rbf;, score=0.750 total time=   0.0s\n",
      "[CV 3/5] END .....C=10, gamma=0.001, kernel=rbf;, score=0.744 total time=   0.0s\n",
      "[CV 4/5] END .....C=10, gamma=0.001, kernel=rbf;, score=0.733 total time=   0.0s\n",
      "[CV 5/5] END .....C=10, gamma=0.001, kernel=rbf;, score=0.733 total time=   0.0s\n",
      "[CV 1/5] END ......C=10, gamma=0.01, kernel=rbf;, score=0.828 total time=   0.0s\n",
      "[CV 2/5] END ......C=10, gamma=0.01, kernel=rbf;, score=0.822 total time=   0.0s\n",
      "[CV 3/5] END ......C=10, gamma=0.01, kernel=rbf;, score=0.844 total time=   0.0s\n",
      "[CV 4/5] END ......C=10, gamma=0.01, kernel=rbf;, score=0.767 total time=   0.0s\n",
      "[CV 5/5] END ......C=10, gamma=0.01, kernel=rbf;, score=0.806 total time=   0.0s\n",
      "[CV 1/5] END .......C=10, gamma=0.1, kernel=rbf;, score=0.867 total time=   0.0s\n",
      "[CV 2/5] END .......C=10, gamma=0.1, kernel=rbf;, score=0.861 total time=   0.0s\n",
      "[CV 3/5] END .......C=10, gamma=0.1, kernel=rbf;, score=0.861 total time=   0.0s\n",
      "[CV 4/5] END .......C=10, gamma=0.1, kernel=rbf;, score=0.861 total time=   0.0s\n",
      "[CV 5/5] END .......C=10, gamma=0.1, kernel=rbf;, score=0.833 total time=   0.0s\n",
      "[CV 1/5] END .........C=10, gamma=1, kernel=rbf;, score=0.739 total time=   0.0s\n",
      "[CV 2/5] END .........C=10, gamma=1, kernel=rbf;, score=0.772 total time=   0.0s\n",
      "[CV 3/5] END .........C=10, gamma=1, kernel=rbf;, score=0.767 total time=   0.0s\n",
      "[CV 4/5] END .........C=10, gamma=1, kernel=rbf;, score=0.750 total time=   0.0s\n",
      "[CV 5/5] END .........C=10, gamma=1, kernel=rbf;, score=0.761 total time=   0.0s\n"
     ]
    },
    {
     "data": {
      "text/plain": [
       "GridSearchCV(estimator=SVC(),\n",
       "             param_grid={'C': [0.1, 1, 10],\n",
       "                         'gamma': [0.0001, 0.001, 0.01, 0.1, 1],\n",
       "                         'kernel': ['rbf']},\n",
       "             verbose=3)"
      ]
     },
     "execution_count": 320,
     "metadata": {},
     "output_type": "execute_result"
    }
   ],
   "source": [
    "grid_svm.fit(x_train,y_train)"
   ]
  },
  {
   "cell_type": "code",
   "execution_count": 324,
   "metadata": {},
   "outputs": [
    {
     "data": {
      "text/plain": [
       "{'C': 10, 'gamma': 0.1, 'kernel': 'rbf'}"
      ]
     },
     "execution_count": 324,
     "metadata": {},
     "output_type": "execute_result"
    }
   ],
   "source": [
    "grid_svm.best_params_"
   ]
  },
  {
   "cell_type": "markdown",
   "metadata": {},
   "source": [
    "# 3. XGBOOST"
   ]
  },
  {
   "cell_type": "code",
   "execution_count": 602,
   "metadata": {},
   "outputs": [
    {
     "name": "stdout",
     "output_type": "stream",
     "text": [
      "[21:17:10] WARNING: C:/Users/Administrator/workspace/xgboost-win64_release_1.4.0/src/learner.cc:1095: Starting in XGBoost 1.3.0, the default evaluation metric used with the objective 'multi:softprob' was changed from 'merror' to 'mlogloss'. Explicitly set eval_metric if you'd like to restore the old behavior.\n"
     ]
    },
    {
     "data": {
      "text/plain": [
       "XGBClassifier(base_score=0.5, booster='gbtree', colsample_bylevel=1,\n",
       "              colsample_bynode=1, colsample_bytree=1, gamma=0, gpu_id=-1,\n",
       "              importance_type='gain', interaction_constraints='',\n",
       "              learning_rate=0.300000012, max_delta_step=0, max_depth=6,\n",
       "              min_child_weight=1, missing=nan, monotone_constraints='()',\n",
       "              n_estimators=100, n_jobs=4, num_parallel_tree=1,\n",
       "              objective='multi:softprob', random_state=0, reg_alpha=0,\n",
       "              reg_lambda=1, scale_pos_weight=None, subsample=1,\n",
       "              tree_method='exact', validate_parameters=1, verbosity=None)"
      ]
     },
     "execution_count": 602,
     "metadata": {},
     "output_type": "execute_result"
    }
   ],
   "source": [
    "# Training the model\n",
    "from xgboost import XGBClassifier \n",
    "model_xgb = XGBClassifier()\n",
    "model_xgb.fit(x_train,y_train)"
   ]
  },
  {
   "cell_type": "code",
   "execution_count": 603,
   "metadata": {},
   "outputs": [],
   "source": [
    "# Predicting the model\n",
    "predictions_xgb = model_xgb.predict(x_test)"
   ]
  },
  {
   "cell_type": "code",
   "execution_count": 604,
   "metadata": {},
   "outputs": [
    {
     "name": "stdout",
     "output_type": "stream",
     "text": [
      "              precision    recall  f1-score   support\n",
      "\n",
      "           2       0.85      0.85      0.85        52\n",
      "           3       0.95      0.96      0.96       276\n",
      "           4       0.89      0.78      0.83        32\n",
      "\n",
      "    accuracy                           0.93       360\n",
      "   macro avg       0.90      0.86      0.88       360\n",
      "weighted avg       0.93      0.93      0.93       360\n",
      "\n",
      "0.9305555555555556\n"
     ]
    }
   ],
   "source": [
    "# Finding accuracy, precision, recall and confusion matrix\n",
    "\n",
    "print(classification_report(y_test,predictions_xgb))\n",
    "print(accuracy_score(y_test,predictions_xgb))"
   ]
  },
  {
   "cell_type": "markdown",
   "metadata": {},
   "source": [
    "# Tuning Hyper Parameters with RandomizedSearchCV"
   ]
  },
  {
   "cell_type": "code",
   "execution_count": 605,
   "metadata": {},
   "outputs": [],
   "source": [
    "from sklearn.model_selection import RandomizedSearchCV"
   ]
  },
  {
   "cell_type": "code",
   "execution_count": 606,
   "metadata": {},
   "outputs": [],
   "source": [
    "params={\n",
    " \"learning_rate\"    : [0.05, 0.10, 0.15, 0.20, 0.25, 0.30 ] ,\n",
    " \"max_depth\"        : [ 3, 4, 5, 6, 8, 10, 12, 15],\n",
    " \"min_child_weight\" : [ 1, 3, 5, 7 ],\n",
    " \"gamma\"            : [ 0.0, 0.1, 0.2 , 0.3, 0.4 ],\n",
    " \"colsample_bytree\" : [ 0.3, 0.4, 0.5 , 0.7 ]\n",
    "    \n",
    "}"
   ]
  },
  {
   "cell_type": "code",
   "execution_count": 607,
   "metadata": {},
   "outputs": [],
   "source": [
    "random_search=RandomizedSearchCV(model_xgb,param_distributions=params,n_iter=5,scoring='roc_auc',n_jobs=-1,cv=5,verbose=3)"
   ]
  },
  {
   "cell_type": "code",
   "execution_count": 608,
   "metadata": {},
   "outputs": [
    {
     "name": "stdout",
     "output_type": "stream",
     "text": [
      "Fitting 5 folds for each of 5 candidates, totalling 25 fits\n",
      "[21:17:43] WARNING: C:/Users/Administrator/workspace/xgboost-win64_release_1.4.0/src/learner.cc:1095: Starting in XGBoost 1.3.0, the default evaluation metric used with the objective 'multi:softprob' was changed from 'merror' to 'mlogloss'. Explicitly set eval_metric if you'd like to restore the old behavior.\n"
     ]
    },
    {
     "data": {
      "text/plain": [
       "RandomizedSearchCV(cv=5,\n",
       "                   estimator=XGBClassifier(base_score=0.5, booster='gbtree',\n",
       "                                           colsample_bylevel=1,\n",
       "                                           colsample_bynode=1,\n",
       "                                           colsample_bytree=1, gamma=0,\n",
       "                                           gpu_id=-1, importance_type='gain',\n",
       "                                           interaction_constraints='',\n",
       "                                           learning_rate=0.300000012,\n",
       "                                           max_delta_step=0, max_depth=6,\n",
       "                                           min_child_weight=1, missing=nan,\n",
       "                                           monotone_constraints='()',\n",
       "                                           n_estimators=100, n_jobs=4,\n",
       "                                           num_pa...\n",
       "                                           random_state=0, reg_alpha=0,\n",
       "                                           reg_lambda=1, scale_pos_weight=None,\n",
       "                                           subsample=1, tree_method='exact',\n",
       "                                           validate_parameters=1,\n",
       "                                           verbosity=None),\n",
       "                   n_iter=5, n_jobs=-1,\n",
       "                   param_distributions={'colsample_bytree': [0.3, 0.4, 0.5,\n",
       "                                                             0.7],\n",
       "                                        'gamma': [0.0, 0.1, 0.2, 0.3, 0.4],\n",
       "                                        'learning_rate': [0.05, 0.1, 0.15, 0.2,\n",
       "                                                          0.25, 0.3],\n",
       "                                        'max_depth': [3, 4, 5, 6, 8, 10, 12,\n",
       "                                                      15],\n",
       "                                        'min_child_weight': [1, 3, 5, 7]},\n",
       "                   scoring='roc_auc', verbose=3)"
      ]
     },
     "execution_count": 608,
     "metadata": {},
     "output_type": "execute_result"
    }
   ],
   "source": [
    "random_search.fit(x_train,y_train)\n"
   ]
  },
  {
   "cell_type": "code",
   "execution_count": 609,
   "metadata": {},
   "outputs": [
    {
     "data": {
      "text/plain": [
       "{'min_child_weight': 1,\n",
       " 'max_depth': 8,\n",
       " 'learning_rate': 0.15,\n",
       " 'gamma': 0.3,\n",
       " 'colsample_bytree': 0.3}"
      ]
     },
     "execution_count": 609,
     "metadata": {},
     "output_type": "execute_result"
    }
   ],
   "source": [
    "random_search.best_params_"
   ]
  },
  {
   "cell_type": "code",
   "execution_count": 610,
   "metadata": {},
   "outputs": [],
   "source": [
    "#Applying these parameters to the model\n",
    "model_xgb_rs = XGBClassifier(min_child_weight= 1,max_depth=8,learning_rate = 0.15,gamma=0.3,colsample_bytree=0.3)"
   ]
  },
  {
   "cell_type": "code",
   "execution_count": 611,
   "metadata": {},
   "outputs": [
    {
     "name": "stdout",
     "output_type": "stream",
     "text": [
      "[21:18:14] WARNING: C:/Users/Administrator/workspace/xgboost-win64_release_1.4.0/src/learner.cc:1095: Starting in XGBoost 1.3.0, the default evaluation metric used with the objective 'multi:softprob' was changed from 'merror' to 'mlogloss'. Explicitly set eval_metric if you'd like to restore the old behavior.\n"
     ]
    },
    {
     "data": {
      "text/plain": [
       "XGBClassifier(base_score=0.5, booster='gbtree', colsample_bylevel=1,\n",
       "              colsample_bynode=1, colsample_bytree=0.3, gamma=0.3, gpu_id=-1,\n",
       "              importance_type='gain', interaction_constraints='',\n",
       "              learning_rate=0.15, max_delta_step=0, max_depth=8,\n",
       "              min_child_weight=1, missing=nan, monotone_constraints='()',\n",
       "              n_estimators=100, n_jobs=4, num_parallel_tree=1,\n",
       "              objective='multi:softprob', random_state=0, reg_alpha=0,\n",
       "              reg_lambda=1, scale_pos_weight=None, subsample=1,\n",
       "              tree_method='exact', validate_parameters=1, verbosity=None)"
      ]
     },
     "execution_count": 611,
     "metadata": {},
     "output_type": "execute_result"
    }
   ],
   "source": [
    "model_xgb_rs.fit(x_train,y_train)"
   ]
  },
  {
   "cell_type": "code",
   "execution_count": 612,
   "metadata": {},
   "outputs": [],
   "source": [
    "# Predicting the model\n",
    "predictions_xgb_rs = model_xgb_rs.predict(x_test)"
   ]
  },
  {
   "cell_type": "code",
   "execution_count": 613,
   "metadata": {},
   "outputs": [
    {
     "name": "stdout",
     "output_type": "stream",
     "text": [
      "              precision    recall  f1-score   support\n",
      "\n",
      "           2       0.86      0.81      0.83        52\n",
      "           3       0.93      0.97      0.95       276\n",
      "           4       0.88      0.69      0.77        32\n",
      "\n",
      "    accuracy                           0.92       360\n",
      "   macro avg       0.89      0.82      0.85       360\n",
      "weighted avg       0.92      0.92      0.92       360\n",
      "\n",
      "0.9194444444444444\n"
     ]
    }
   ],
   "source": [
    "# Finding accuracy, precision, recall and confusion matrix\n",
    "\n",
    "print(classification_report(y_test,predictions_xgb_rs))\n",
    "print(accuracy_score(y_test,predictions_xgb_rs))"
   ]
  },
  {
   "cell_type": "code",
   "execution_count": 614,
   "metadata": {},
   "outputs": [
    {
     "data": {
      "text/plain": [
       "array([[ 42,  10,   0],\n",
       "       [  6, 267,   3],\n",
       "       [  1,   9,  22]], dtype=int64)"
      ]
     },
     "execution_count": 614,
     "metadata": {},
     "output_type": "execute_result"
    }
   ],
   "source": [
    "confusion_matrix(y_test,predictions_xgb_rs)"
   ]
  },
  {
   "cell_type": "markdown",
   "metadata": {},
   "source": [
    "# 4. Artificial Neural Network"
   ]
  },
  {
   "cell_type": "code",
   "execution_count": 615,
   "metadata": {},
   "outputs": [
    {
     "data": {
      "text/plain": [
       "MLPClassifier(batch_size=10, hidden_layer_sizes=(100, 100, 100),\n",
       "              learning_rate_init=0.01, max_iter=2000, random_state=10)"
      ]
     },
     "execution_count": 615,
     "metadata": {},
     "output_type": "execute_result"
    }
   ],
   "source": [
    "# Training the model\n",
    "from sklearn.neural_network import MLPClassifier\n",
    "model_mlp = MLPClassifier(hidden_layer_sizes=(100,100,100),batch_size=10,learning_rate_init=0.01,max_iter=2000,random_state=10)\n",
    "model_mlp.fit(x_train,y_train)"
   ]
  },
  {
   "cell_type": "code",
   "execution_count": 616,
   "metadata": {},
   "outputs": [],
   "source": [
    "# Predicting the model\n",
    "predictions_mlp = model_mlp.predict(x_test)"
   ]
  },
  {
   "cell_type": "code",
   "execution_count": 617,
   "metadata": {},
   "outputs": [
    {
     "name": "stdout",
     "output_type": "stream",
     "text": [
      "              precision    recall  f1-score   support\n",
      "\n",
      "           2       0.68      0.75      0.72        52\n",
      "           3       0.91      0.90      0.91       276\n",
      "           4       0.67      0.62      0.65        32\n",
      "\n",
      "    accuracy                           0.86       360\n",
      "   macro avg       0.75      0.76      0.76       360\n",
      "weighted avg       0.86      0.86      0.86       360\n",
      "\n",
      "\n",
      "\n",
      "Accuracy Score: 0.8555555555555555\n"
     ]
    }
   ],
   "source": [
    "print(classification_report(y_test,predictions_mlp))\n",
    "print('\\n')\n",
    "print('Accuracy Score:', accuracy_score(y_test,predictions_mlp))"
   ]
  },
  {
   "cell_type": "markdown",
   "metadata": {},
   "source": [
    "# PROJECT SUMMARY"
   ]
  },
  {
   "cell_type": "markdown",
   "metadata": {},
   "source": [
    "Classification alogrithms were chosen to train the model, as the target variable falls under discrete data type and specifically classification alogrithms which are able to classify non-linearly seperable data such as - Random Forest,Support Vector Machines, Naive Bayes, XGBoost Classifier and Artificial Neural Networks were used in order to develop a model that was  able to predict employee performance based on the input variables, it was observed that Random Forest with GridSearchCV gives the maximum accuracy of 94%. Therefore Random Forest with GridSearchCV can be chosen to fit the bussiness case.\n"
   ]
  },
  {
   "cell_type": "markdown",
   "metadata": {},
   "source": [
    "The most important features for analysis was selected using the following feature selection techniques:\n",
    "\n",
    " - Univarite Analysis\n",
    " - Feature Analysis using ExtraTreesClassifier\n",
    " - Correlation Score\n",
    "\n",
    "Based on the above, the following features were selected for Analysis:\n",
    " - Emp Last Salary Hike Perecent\n",
    " - Emp Environment Satisfaction\n",
    " - Years Since Last Promotion\n",
    " - Emp Department\n",
    " - Experience Years in Current Role\n",
    " - Emp Work Life Balance\n",
    " - Emp Job Role\n",
    " - Years with Current Manager\n",
    " - Experience Years at this Company\n",
    " - Emp Hourly Rate\n",
    " \n",
    "It was observed that using these features for training the model yielded a fair accuracy score.\n",
    "\n",
    "PCA factorization was also used to select the features but as the accuracy was comparitvely lower than the above feature selection techniques. Therefore, PCA was not implemented into training the model.\n",
    "\n"
   ]
  },
  {
   "cell_type": "markdown",
   "metadata": {},
   "source": [
    "Univariate Analysis was used to identify the linearly of data.\n",
    "\n",
    "It was concluded that as the points were not linearly seperable , Logistic Regression could be ruled out for training the model"
   ]
  },
  {
   "cell_type": "markdown",
   "metadata": {},
   "source": [
    "## FEATURE SELECTION /ENGINEERING"
   ]
  },
  {
   "cell_type": "markdown",
   "metadata": {},
   "source": [
    "The most important features for analysis was selected using the following feature selection techniques:\n",
    "\n",
    "   - Univarite Analysis\n",
    "   - Feature Analysis using ExtraTreesClassifier\n",
    "   - Correlation Score\n",
    "\n",
    "Based on the above, the following features were selected for Analysis:\n",
    "\n",
    "   - Emp Last Salary Hike Perecent\n",
    "   - Emp Environment Satisfaction\n",
    "   - Years Since Last Promotion\n",
    "   - Emp Department\n",
    "   - Experience Years in Current Role\n",
    "   - Emp Work Life Balance\n",
    "   - Emp Job Role\n",
    "   - Years with Current Manager\n",
    "   - Experience Years at this Company\n",
    "   - Emp Hourly Rate\n"
   ]
  },
  {
   "cell_type": "markdown",
   "metadata": {},
   "source": [
    "Feature Tranformations\n",
    "\n",
    "Standard scaler was used to transform the features so as to control the difference of magnitude within the units of the selected features"
   ]
  },
  {
   "cell_type": "markdown",
   "metadata": {},
   "source": [
    "## 1. Department wise performances "
   ]
  },
  {
   "cell_type": "code",
   "execution_count": 578,
   "metadata": {},
   "outputs": [
    {
     "data": {
      "text/plain": [
       "<AxesSubplot:xlabel='EmpDepartment', ylabel='PerformanceRating'>"
      ]
     },
     "execution_count": 578,
     "metadata": {},
     "output_type": "execute_result"
    },
    {
     "data": {
      "image/png": "[encoded data removed]",
      "text/plain": [
       "<Figure size 1000x500 with 1 Axes>"
      ]
     },
     "metadata": {},
     "output_type": "display_data"
    }
   ],
   "source": [
    "df.groupby(by='EmpDepartment')['PerformanceRating'].mean()\n",
    "fig = plt.figure(figsize=(10,5))\n",
    "sns.barplot(x='EmpDepartment',y='PerformanceRating',data=data)"
   ]
  },
  {
   "cell_type": "code",
   "execution_count": 579,
   "metadata": {},
   "outputs": [
    {
     "data": {
      "text/plain": [
       "<Figure size 2000x2000 with 0 Axes>"
      ]
     },
     "metadata": {},
     "output_type": "display_data"
    },
    {
     "data": {
      "image/png": "[encoded data removed]",
      "text/plain": [
       "<Figure size 600x400 with 6 Axes>"
      ]
     },
     "metadata": {},
     "output_type": "display_data"
    }
   ],
   "source": [
    "fig = plt.figure(figsize=(20,20))\n",
    "fig,ax = plt.subplots(2,3)\n",
    "ax[0,0].pie(dataset_table['Data Science'],autopct='%1.2f%%',labels=[2,3,4])\n",
    "ax[0,0].set_title('Data Science')\n",
    "\n",
    "ax[0,1].pie(dataset_table['Development'],autopct='%1.2f%%',labels=[2,3,4])\n",
    "ax[0,1].set_title('Development')\n",
    "\n",
    "ax[0,2].pie(dataset_table['Finance'],autopct='%1.2f%%',labels=[2,3,4])\n",
    "ax[0,2].set_title('Finance')\n",
    "\n",
    "ax[1,0].pie(dataset_table['Human Resources'],autopct='%1.2f%%',labels=[2,3,4])\n",
    "ax[1,0].set_title('Human Resources')\n",
    "\n",
    "ax[1,1].pie(dataset_table['Research & Development'],autopct='%1.2f%%',labels=[2,3,4])\n",
    "ax[1,1].set_title('R&D')\n",
    "\n",
    "ax[1,2].pie(dataset_table['Sales'],autopct='%1.2f%%',labels=[2,3,4])\n",
    "ax[1,2].set_title('Sales')\n",
    "\n",
    "\n",
    "plt.tight_layout()\n",
    "plt.show()"
   ]
  },
  {
   "cell_type": "markdown",
   "metadata": {},
   "source": [
    "Insights:\n",
    "    We can infer from Exploratory Data Analysis Section that, the top 3 factors effecting employee performance are:\n",
    "   \n",
    "   - Emp Last Salary Hike Perecent\n",
    "   - Emp Environment Satisfaction\n",
    "   - Years Since Last Promotion<br>\n",
    " The top 3 factors and the following factors were chosen to train the model\n",
    "   - Emp Department\n",
    "   - Experience Years in Current Role\n",
    "   - Emp Work Life Balance\n",
    "   - Emp Job Role\n",
    "   - Years with Current Manager\n",
    "   - Experience Years at this Company\n",
    "   - Emp Hourly Rate\n",
    "\n",
    "Recommendations:\n",
    " - For employees currently working with the company, looking at the data and we can infer that creating a work environment   based around the necessities of the employee correlates to a better performing employee, it is observed from the data that, employees that recieve a high salary hike tend to outperform employees that recieve a low salary hike, promoting employee retreats and such also tend to improve an employees performance,as work life balance is also a key parameter contributing to employee perfromance.\n",
    "Additional Insights: Employees working in the Development department have shown the best performance according to the given data, which suggests that their input and suggestions can also be taken and implemented in other departments.\n",
    " \n",
    "  "
   ]
  },
  {
   "cell_type": "code",
   "execution_count": null,
   "metadata": {},
   "outputs": [],
   "source": []
  }
 ],
 "metadata": {
  "kernelspec": {
   "display_name": "Python 3",
   "language": "python",
   "name": "python3"
  },
  "language_info": {
   "codemirror_mode": {
    "name": "ipython",
    "version": 3
   },
   "file_extension": ".py",
   "mimetype": "text/x-python",
   "name": "python",
   "nbconvert_exporter": "python",
   "pygments_lexer": "ipython3",
   "version": "3.7.6"
  }
 },
 "nbformat": 4,
 "nbformat_minor": 4
}
